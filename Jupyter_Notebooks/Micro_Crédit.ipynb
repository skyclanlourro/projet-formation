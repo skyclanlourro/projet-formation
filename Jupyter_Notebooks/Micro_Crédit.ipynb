{
  "cells": [
    {
      "cell_type": "markdown",
      "metadata": {
        "id": "eyE-yxbSZLav"
      },
      "source": [
        "# Contenu\n",
        "\n",
        "Une demande de prêt est utilisée par les emprunteurs pour demander un prêt. Grâce à la demande de prêt, les emprunteurs révèlent au prêteur des détails clés sur leurs finances. La demande de prêt est cruciale pour déterminer si le prêteur accordera la demande de fonds ou de crédit.\n"
      ]
    },
    {
      "cell_type": "markdown",
      "metadata": {
        "id": "mrJELrLiZs2k"
      },
      "source": [
        "# Importation des librairies"
      ]
    },
    {
      "cell_type": "code",
      "execution_count": 1,
      "metadata": {
        "id": "qJYiAm1yZBeJ"
      },
      "outputs": [],
      "source": [
        "import pandas as pd\n",
        "import numpy as np\n",
        "import seaborn as sns\n",
        "import matplotlib.pyplot as plt\n",
        "%matplotlib inline\n",
        "import warnings\n",
        "warnings.filterwarnings(\"ignore\")"
      ]
    },
    {
      "cell_type": "markdown",
      "metadata": {
        "id": "__u1NjVJadUB"
      },
      "source": [
        "# Loading Data Train & Test\n"
      ]
    },
    {
      "cell_type": "code",
      "execution_count": 2,
      "metadata": {
        "colab": {
          "base_uri": "https://localhost:8080/",
          "height": 204
        },
        "id": "riZ8bSTeae4B",
        "outputId": "ce4940aa-2771-48bc-dccc-b56eb983562f"
      },
      "outputs": [
        {
          "data": {
            "text/html": [
              "<div>\n",
              "<style scoped>\n",
              "    .dataframe tbody tr th:only-of-type {\n",
              "        vertical-align: middle;\n",
              "    }\n",
              "\n",
              "    .dataframe tbody tr th {\n",
              "        vertical-align: top;\n",
              "    }\n",
              "\n",
              "    .dataframe thead th {\n",
              "        text-align: right;\n",
              "    }\n",
              "</style>\n",
              "<table border=\"1\" class=\"dataframe\">\n",
              "  <thead>\n",
              "    <tr style=\"text-align: right;\">\n",
              "      <th></th>\n",
              "      <th>Loan_ID</th>\n",
              "      <th>Gender</th>\n",
              "      <th>Married</th>\n",
              "      <th>Dependents</th>\n",
              "      <th>Education</th>\n",
              "      <th>Self_Employed</th>\n",
              "      <th>ApplicantIncome</th>\n",
              "      <th>CoapplicantIncome</th>\n",
              "      <th>LoanAmount</th>\n",
              "      <th>Loan_Amount_Term</th>\n",
              "      <th>Credit_History</th>\n",
              "      <th>Property_Area</th>\n",
              "      <th>Loan_Status</th>\n",
              "    </tr>\n",
              "  </thead>\n",
              "  <tbody>\n",
              "    <tr>\n",
              "      <th>0</th>\n",
              "      <td>LP002305</td>\n",
              "      <td>Female</td>\n",
              "      <td>No</td>\n",
              "      <td>0</td>\n",
              "      <td>Graduate</td>\n",
              "      <td>No</td>\n",
              "      <td>4547</td>\n",
              "      <td>0.0</td>\n",
              "      <td>115.0</td>\n",
              "      <td>360.0</td>\n",
              "      <td>1.0</td>\n",
              "      <td>Semiurban</td>\n",
              "      <td>1</td>\n",
              "    </tr>\n",
              "    <tr>\n",
              "      <th>1</th>\n",
              "      <td>LP001715</td>\n",
              "      <td>Male</td>\n",
              "      <td>Yes</td>\n",
              "      <td>3+</td>\n",
              "      <td>Not Graduate</td>\n",
              "      <td>Yes</td>\n",
              "      <td>5703</td>\n",
              "      <td>0.0</td>\n",
              "      <td>130.0</td>\n",
              "      <td>360.0</td>\n",
              "      <td>1.0</td>\n",
              "      <td>Rural</td>\n",
              "      <td>1</td>\n",
              "    </tr>\n",
              "    <tr>\n",
              "      <th>2</th>\n",
              "      <td>LP002086</td>\n",
              "      <td>Female</td>\n",
              "      <td>Yes</td>\n",
              "      <td>0</td>\n",
              "      <td>Graduate</td>\n",
              "      <td>No</td>\n",
              "      <td>4333</td>\n",
              "      <td>2451.0</td>\n",
              "      <td>110.0</td>\n",
              "      <td>360.0</td>\n",
              "      <td>1.0</td>\n",
              "      <td>Urban</td>\n",
              "      <td>0</td>\n",
              "    </tr>\n",
              "    <tr>\n",
              "      <th>3</th>\n",
              "      <td>LP001136</td>\n",
              "      <td>Male</td>\n",
              "      <td>Yes</td>\n",
              "      <td>0</td>\n",
              "      <td>Not Graduate</td>\n",
              "      <td>Yes</td>\n",
              "      <td>4695</td>\n",
              "      <td>0.0</td>\n",
              "      <td>96.0</td>\n",
              "      <td>NaN</td>\n",
              "      <td>1.0</td>\n",
              "      <td>Urban</td>\n",
              "      <td>1</td>\n",
              "    </tr>\n",
              "    <tr>\n",
              "      <th>4</th>\n",
              "      <td>LP002529</td>\n",
              "      <td>Male</td>\n",
              "      <td>Yes</td>\n",
              "      <td>2</td>\n",
              "      <td>Graduate</td>\n",
              "      <td>No</td>\n",
              "      <td>6700</td>\n",
              "      <td>1750.0</td>\n",
              "      <td>230.0</td>\n",
              "      <td>300.0</td>\n",
              "      <td>1.0</td>\n",
              "      <td>Semiurban</td>\n",
              "      <td>1</td>\n",
              "    </tr>\n",
              "  </tbody>\n",
              "</table>\n",
              "</div>"
            ],
            "text/plain": [
              "    Loan_ID  Gender Married Dependents     Education Self_Employed  \\\n",
              "0  LP002305  Female      No          0      Graduate            No   \n",
              "1  LP001715    Male     Yes         3+  Not Graduate           Yes   \n",
              "2  LP002086  Female     Yes          0      Graduate            No   \n",
              "3  LP001136    Male     Yes          0  Not Graduate           Yes   \n",
              "4  LP002529    Male     Yes          2      Graduate            No   \n",
              "\n",
              "   ApplicantIncome  CoapplicantIncome  LoanAmount  Loan_Amount_Term  \\\n",
              "0             4547                0.0       115.0             360.0   \n",
              "1             5703                0.0       130.0             360.0   \n",
              "2             4333             2451.0       110.0             360.0   \n",
              "3             4695                0.0        96.0               NaN   \n",
              "4             6700             1750.0       230.0             300.0   \n",
              "\n",
              "   Credit_History Property_Area  Loan_Status  \n",
              "0             1.0     Semiurban            1  \n",
              "1             1.0         Rural            1  \n",
              "2             1.0         Urban            0  \n",
              "3             1.0         Urban            1  \n",
              "4             1.0     Semiurban            1  "
            ]
          },
          "execution_count": 2,
          "metadata": {},
          "output_type": "execute_result"
        }
      ],
      "source": [
        "loan_data  = pd.read_csv(\"https://raw.githubusercontent.com/dphi-official/Datasets/master/Loan_Data/loan_train.csv\",index_col=False)\n",
        "loan_data = loan_data.drop(['Unnamed: 0'], axis=1)\n",
        "loan_data.head()"
      ]
    },
    {
      "cell_type": "code",
      "execution_count": 3,
      "metadata": {
        "colab": {
          "base_uri": "https://localhost:8080/",
          "height": 204
        },
        "id": "oz-K7MvFbDaM",
        "outputId": "7fbae3e8-7ef6-4fdf-b690-f4cfc65d9fce"
      },
      "outputs": [
        {
          "data": {
            "text/html": [
              "<div>\n",
              "<style scoped>\n",
              "    .dataframe tbody tr th:only-of-type {\n",
              "        vertical-align: middle;\n",
              "    }\n",
              "\n",
              "    .dataframe tbody tr th {\n",
              "        vertical-align: top;\n",
              "    }\n",
              "\n",
              "    .dataframe thead th {\n",
              "        text-align: right;\n",
              "    }\n",
              "</style>\n",
              "<table border=\"1\" class=\"dataframe\">\n",
              "  <thead>\n",
              "    <tr style=\"text-align: right;\">\n",
              "      <th></th>\n",
              "      <th>Loan_ID</th>\n",
              "      <th>Gender</th>\n",
              "      <th>Married</th>\n",
              "      <th>Dependents</th>\n",
              "      <th>Education</th>\n",
              "      <th>Self_Employed</th>\n",
              "      <th>ApplicantIncome</th>\n",
              "      <th>CoapplicantIncome</th>\n",
              "      <th>LoanAmount</th>\n",
              "      <th>Loan_Amount_Term</th>\n",
              "      <th>Credit_History</th>\n",
              "      <th>Property_Area</th>\n",
              "    </tr>\n",
              "  </thead>\n",
              "  <tbody>\n",
              "    <tr>\n",
              "      <th>0</th>\n",
              "      <td>LP001116</td>\n",
              "      <td>Male</td>\n",
              "      <td>No</td>\n",
              "      <td>0</td>\n",
              "      <td>Not Graduate</td>\n",
              "      <td>No</td>\n",
              "      <td>3748</td>\n",
              "      <td>1668.0</td>\n",
              "      <td>110.0</td>\n",
              "      <td>360.0</td>\n",
              "      <td>1.0</td>\n",
              "      <td>Semiurban</td>\n",
              "    </tr>\n",
              "    <tr>\n",
              "      <th>1</th>\n",
              "      <td>LP001488</td>\n",
              "      <td>Male</td>\n",
              "      <td>Yes</td>\n",
              "      <td>3+</td>\n",
              "      <td>Graduate</td>\n",
              "      <td>No</td>\n",
              "      <td>4000</td>\n",
              "      <td>7750.0</td>\n",
              "      <td>290.0</td>\n",
              "      <td>360.0</td>\n",
              "      <td>1.0</td>\n",
              "      <td>Semiurban</td>\n",
              "    </tr>\n",
              "    <tr>\n",
              "      <th>2</th>\n",
              "      <td>LP002138</td>\n",
              "      <td>Male</td>\n",
              "      <td>Yes</td>\n",
              "      <td>0</td>\n",
              "      <td>Graduate</td>\n",
              "      <td>No</td>\n",
              "      <td>2625</td>\n",
              "      <td>6250.0</td>\n",
              "      <td>187.0</td>\n",
              "      <td>360.0</td>\n",
              "      <td>1.0</td>\n",
              "      <td>Rural</td>\n",
              "    </tr>\n",
              "    <tr>\n",
              "      <th>3</th>\n",
              "      <td>LP002284</td>\n",
              "      <td>Male</td>\n",
              "      <td>No</td>\n",
              "      <td>0</td>\n",
              "      <td>Not Graduate</td>\n",
              "      <td>No</td>\n",
              "      <td>3902</td>\n",
              "      <td>1666.0</td>\n",
              "      <td>109.0</td>\n",
              "      <td>360.0</td>\n",
              "      <td>1.0</td>\n",
              "      <td>Rural</td>\n",
              "    </tr>\n",
              "    <tr>\n",
              "      <th>4</th>\n",
              "      <td>LP002328</td>\n",
              "      <td>Male</td>\n",
              "      <td>Yes</td>\n",
              "      <td>0</td>\n",
              "      <td>Not Graduate</td>\n",
              "      <td>No</td>\n",
              "      <td>6096</td>\n",
              "      <td>0.0</td>\n",
              "      <td>218.0</td>\n",
              "      <td>360.0</td>\n",
              "      <td>0.0</td>\n",
              "      <td>Rural</td>\n",
              "    </tr>\n",
              "  </tbody>\n",
              "</table>\n",
              "</div>"
            ],
            "text/plain": [
              "    Loan_ID Gender Married Dependents     Education Self_Employed  \\\n",
              "0  LP001116   Male      No          0  Not Graduate            No   \n",
              "1  LP001488   Male     Yes         3+      Graduate            No   \n",
              "2  LP002138   Male     Yes          0      Graduate            No   \n",
              "3  LP002284   Male      No          0  Not Graduate            No   \n",
              "4  LP002328   Male     Yes          0  Not Graduate            No   \n",
              "\n",
              "   ApplicantIncome  CoapplicantIncome  LoanAmount  Loan_Amount_Term  \\\n",
              "0             3748             1668.0       110.0             360.0   \n",
              "1             4000             7750.0       290.0             360.0   \n",
              "2             2625             6250.0       187.0             360.0   \n",
              "3             3902             1666.0       109.0             360.0   \n",
              "4             6096                0.0       218.0             360.0   \n",
              "\n",
              "   Credit_History Property_Area  \n",
              "0             1.0     Semiurban  \n",
              "1             1.0     Semiurban  \n",
              "2             1.0         Rural  \n",
              "3             1.0         Rural  \n",
              "4             0.0         Rural  "
            ]
          },
          "execution_count": 3,
          "metadata": {},
          "output_type": "execute_result"
        }
      ],
      "source": [
        "test_data = pd.read_csv('https://raw.githubusercontent.com/dphi-official/Datasets/master/Loan_Data/loan_test.csv')\n",
        "test_data.head()"
      ]
    },
    {
      "cell_type": "code",
      "execution_count": 4,
      "metadata": {
        "colab": {
          "base_uri": "https://localhost:8080/"
        },
        "id": "R0NRUCSYbvkj",
        "outputId": "1ebdcb9b-37c5-4219-8bb4-ac96ae6976fe"
      },
      "outputs": [
        {
          "data": {
            "text/plain": [
              "(491, 13)"
            ]
          },
          "execution_count": 4,
          "metadata": {},
          "output_type": "execute_result"
        }
      ],
      "source": [
        "loan_data.shape\n"
      ]
    },
    {
      "cell_type": "markdown",
      "metadata": {
        "id": "V4MXHwMJcN25"
      },
      "source": [
        "Nous avons 491 lignes et 13 colonnes dans train dataset."
      ]
    },
    {
      "cell_type": "code",
      "execution_count": 5,
      "metadata": {
        "colab": {
          "base_uri": "https://localhost:8080/"
        },
        "id": "X--lqh-Fb-XX",
        "outputId": "583a792b-c1e2-4b67-ce1e-d0d66989361e"
      },
      "outputs": [
        {
          "data": {
            "text/plain": [
              "(123, 12)"
            ]
          },
          "execution_count": 5,
          "metadata": {},
          "output_type": "execute_result"
        }
      ],
      "source": [
        "test_data.shape\n"
      ]
    },
    {
      "cell_type": "markdown",
      "metadata": {
        "id": "djOAbCBMcTIh"
      },
      "source": [
        "Nous avons 123 lignes et 12 colonnes dans l'ensemble de données de test."
      ]
    },
    {
      "cell_type": "code",
      "execution_count": 6,
      "metadata": {
        "colab": {
          "base_uri": "https://localhost:8080/"
        },
        "id": "F2N6OgIjcBO0",
        "outputId": "4749b5ca-4e43-42cd-f8f8-079327556c77"
      },
      "outputs": [
        {
          "data": {
            "text/plain": [
              "1    343\n",
              "0    148\n",
              "Name: Loan_Status, dtype: int64"
            ]
          },
          "execution_count": 6,
          "metadata": {},
          "output_type": "execute_result"
        }
      ],
      "source": [
        "loan_data['Loan_Status'].value_counts()"
      ]
    },
    {
      "cell_type": "code",
      "execution_count": 7,
      "metadata": {
        "colab": {
          "base_uri": "https://localhost:8080/"
        },
        "id": "aisuEA47cEnz",
        "outputId": "1d2d5333-93e1-4ad4-fb65-4be4583cd02a"
      },
      "outputs": [
        {
          "data": {
            "text/plain": [
              "1    0.698574\n",
              "0    0.301426\n",
              "Name: Loan_Status, dtype: float64"
            ]
          },
          "execution_count": 7,
          "metadata": {},
          "output_type": "execute_result"
        }
      ],
      "source": [
        "loan_data['Loan_Status'].value_counts(normalize=True)"
      ]
    },
    {
      "cell_type": "code",
      "execution_count": 8,
      "metadata": {
        "colab": {
          "base_uri": "https://localhost:8080/",
          "height": 279
        },
        "id": "tlwaUuXjcKHi",
        "outputId": "8a6576c9-55e3-4dac-8774-89a1cfc7b632"
      },
      "outputs": [
        {
          "data": {
            "text/plain": [
              "<AxesSubplot:>"
            ]
          },
          "execution_count": 8,
          "metadata": {},
          "output_type": "execute_result"
        },
        {
          "data": {
            "image/png": "[encoded data removed]",
            "text/plain": [
              "<Figure size 432x288 with 1 Axes>"
            ]
          },
          "metadata": {
            "needs_background": "light"
          },
          "output_type": "display_data"
        }
      ],
      "source": [
        "loan_data['Loan_Status'].value_counts().plot.bar()"
      ]
    },
    {
      "cell_type": "markdown",
      "metadata": {
        "id": "gmjKHoYTclo2"
      },
      "source": [
        "Le prêt de 343 (environ 69,85 %) personnes sur 491 a été approuvé."
      ]
    },
    {
      "cell_type": "markdown",
      "metadata": {
        "id": "6FzA7DcedNPN"
      },
      "source": [
        "Maintenant, visualisons chaque variable séparément. Les différents types de variables sont catégoriques, ordinales et numériques.\n",
        "\n",
        "* Fonctionnalités catégorielles : ces fonctionnalités ont des catégories (Gender, Married, Self_Employed, Credit_History, Loan_Status)\n",
        "* Caractéristiques ordinales : variables dans les caractéristiques catégorielles ayant un certain ordre impliqué (Dependents, Education, Property_Area)\n",
        "* Caractéristiques numériques : ces caractéristiques ont des valeurs numériques (ApplicantIncome, CoapplicantIncome, LoanAmount,Loan_Amount_Term)"
      ]
    },
    {
      "cell_type": "markdown",
      "metadata": {
        "id": "2KgDFQaFdU1T"
      },
      "source": [
        "## Independent Variable (Categorical)"
      ]
    },
    {
      "cell_type": "code",
      "execution_count": 9,
      "metadata": {
        "colab": {
          "base_uri": "https://localhost:8080/",
          "height": 1000
        },
        "id": "f13aaafGcib7",
        "outputId": "7fb3f30b-e8cd-4dc7-f9f3-a5f2c2e566b3"
      },
      "outputs": [
        {
          "data": {
            "image/png": "[encoded data removed]",
            "text/plain": [
              "<Figure size 432x288 with 1 Axes>"
            ]
          },
          "metadata": {
            "needs_background": "light"
          },
          "output_type": "display_data"
        },
        {
          "data": {
            "image/png": "[encoded data removed]",
            "text/plain": [
              "<Figure size 432x288 with 1 Axes>"
            ]
          },
          "metadata": {
            "needs_background": "light"
          },
          "output_type": "display_data"
        },
        {
          "data": {
            "image/png": "[encoded data removed]",
            "text/plain": [
              "<Figure size 432x288 with 1 Axes>"
            ]
          },
          "metadata": {
            "needs_background": "light"
          },
          "output_type": "display_data"
        },
        {
          "data": {
            "image/png": "[encoded data removed]",
            "text/plain": [
              "<Figure size 432x288 with 1 Axes>"
            ]
          },
          "metadata": {
            "needs_background": "light"
          },
          "output_type": "display_data"
        }
      ],
      "source": [
        "loan_data['Gender'].value_counts(normalize=True).plot.bar(title='Gender')\n",
        "plt.show()\n",
        "loan_data['Married'].value_counts(normalize=True).plot.bar(title='Married')\n",
        "plt.show()\n",
        "loan_data['Self_Employed'].value_counts(normalize=True).plot.bar(title='Self_Employed')\n",
        "plt.show()\n",
        "loan_data['Credit_History'].value_counts(normalize=True).plot.bar(title='Credit_History')\n",
        "plt.show()\n"
      ]
    },
    {
      "cell_type": "markdown",
      "metadata": {
        "id": "ZIB69cs0doLN"
      },
      "source": [
        "On peut déduire des diagrammes à barres ci-dessus que :\n",
        "\n",
        "* 80 % des candidats dans l'ensemble de données sont des hommes.\n",
        "* Environ 65% des candidats de l'ensemble de données sont mariés.\n",
        "* Environ 15 % des candidats de l'ensemble de données sont des travailleurs indépendants.\n",
        "* Environ 85% des candidats ont remboursé leurs detes."
      ]
    },
    {
      "cell_type": "markdown",
      "metadata": {
        "id": "dEKRlozPdzyQ"
      },
      "source": [
        "## Independent Variable (Ordinal)"
      ]
    },
    {
      "cell_type": "code",
      "execution_count": 10,
      "metadata": {
        "colab": {
          "base_uri": "https://localhost:8080/",
          "height": 916
        },
        "id": "-5x0MZIcdETe",
        "outputId": "9a787565-cb06-4660-e965-ea6144af3504"
      },
      "outputs": [
        {
          "data": {
            "image/png": "[encoded data removed]",
            "text/plain": [
              "<Figure size 432x288 with 1 Axes>"
            ]
          },
          "metadata": {
            "needs_background": "light"
          },
          "output_type": "display_data"
        },
        {
          "data": {
            "image/png": "[encoded data removed]",
            "text/plain": [
              "<Figure size 432x288 with 1 Axes>"
            ]
          },
          "metadata": {
            "needs_background": "light"
          },
          "output_type": "display_data"
        },
        {
          "data": {
            "image/png": "[encoded data removed]",
            "text/plain": [
              "<Figure size 432x288 with 1 Axes>"
            ]
          },
          "metadata": {
            "needs_background": "light"
          },
          "output_type": "display_data"
        }
      ],
      "source": [
        "loan_data['Dependents'].value_counts(normalize=True).plot.bar( title='Dependents')\n",
        "plt.show()\n",
        "loan_data['Education'].value_counts(normalize=True).plot.bar(title='Education')\n",
        "plt.show()\n",
        "loan_data['Property_Area'].value_counts(normalize=True).plot.bar(title='Property_Area')\n",
        "plt.show()"
      ]
    },
    {
      "cell_type": "markdown",
      "metadata": {
        "id": "a80gApFweNRO"
      },
      "source": [
        "Les déductions suivantes peuvent être faites à partir des diagrammes à barres ci-dessus :\n",
        "\n",
        "* La plupart des candidats n'ont pas de personnes à charge.\n",
        "* Environ 80% des candidats sont diplômés.\n",
        "* La plupart des candidats sont de la zone semi-urbaine."
      ]
    },
    {
      "cell_type": "markdown",
      "metadata": {
        "id": "8OnK3nxfeTkK"
      },
      "source": [
        "## Independent Variable (Numerical)\n",
        "\n",
        "Jusqu'à présent, nous avons vu les variables catégorielles et ordinales et maintenant on va visualiser les variables numériques. Regardons d'abord la répartition des revenus du demandeur."
      ]
    },
    {
      "cell_type": "code",
      "execution_count": 11,
      "metadata": {
        "colab": {
          "base_uri": "https://localhost:8080/",
          "height": 582
        },
        "id": "4y_gPMoWd_db",
        "outputId": "71099761-a52c-4798-8dd5-bf7a4be195aa"
      },
      "outputs": [
        {
          "data": {
            "image/png": "[encoded data removed]",
            "text/plain": [
              "<Figure size 432x288 with 1 Axes>"
            ]
          },
          "metadata": {
            "needs_background": "light"
          },
          "output_type": "display_data"
        },
        {
          "data": {
            "image/png": "[encoded data removed]",
            "text/plain": [
              "<Figure size 1152x360 with 1 Axes>"
            ]
          },
          "metadata": {
            "needs_background": "light"
          },
          "output_type": "display_data"
        }
      ],
      "source": [
        "sns.distplot(loan_data['ApplicantIncome'])\n",
        "plt.show()\n",
        "loan_data['ApplicantIncome'].plot.box(figsize=(16,5))\n",
        "plt.show()"
      ]
    },
    {
      "cell_type": "markdown",
      "metadata": {
        "id": "WCSsd50QeclX"
      },
      "source": [
        "On peut en déduire que la plupart des données de la répartition des revenus des demandeurs sont orientées vers la gauche, ce qui signifie qu'elles ne sont pas normalement réparties. Nous essaierons de le rendre normal dans les sections suivantes, car les algorithmes fonctionnent mieux si les données sont distribuées normalement.\n",
        "\n",
        "Le boxplot confirme la présence de beaucoup de valeurs aberrantes/extrêmes. Cela peut être attribué à la disparité des revenus dans la société. Cela peut être dû en partie au fait que nous examinons des personnes ayant des niveaux d'éducation différents. Séparons-les par éducation."
      ]
    },
    {
      "cell_type": "code",
      "execution_count": 12,
      "metadata": {
        "colab": {
          "base_uri": "https://localhost:8080/",
          "height": 311
        },
        "id": "k4i9t6t9eZfq",
        "outputId": "0fc08c21-768f-498c-d589-a468bf170380"
      },
      "outputs": [
        {
          "data": {
            "text/plain": [
              "Text(0.5, 0.98, '')"
            ]
          },
          "execution_count": 12,
          "metadata": {},
          "output_type": "execute_result"
        },
        {
          "data": {
            "image/png": "[encoded data removed]",
            "text/plain": [
              "<Figure size 432x288 with 1 Axes>"
            ]
          },
          "metadata": {
            "needs_background": "light"
          },
          "output_type": "display_data"
        }
      ],
      "source": [
        "loan_data.boxplot(column='ApplicantIncome', by = 'Education') \n",
        "plt.suptitle(\"\")"
      ]
    },
    {
      "cell_type": "markdown",
      "metadata": {
        "id": "R0SgTc56eoA0"
      },
      "source": [
        "On constate qu'il y a un plus grand nombre de diplômés aux revenus très élevés, qui apparaissent comme des valeurs aberrantes.\n",
        "\n",
        "Regardons la répartition des revenus du codemandeur."
      ]
    },
    {
      "cell_type": "code",
      "execution_count": 13,
      "metadata": {
        "colab": {
          "base_uri": "https://localhost:8080/",
          "height": 582
        },
        "id": "Y4w_g8UOejgN",
        "outputId": "cf9cf189-21c6-4f55-ec9c-83a5bfd8fe95"
      },
      "outputs": [
        {
          "data": {
            "image/png": "[encoded data removed]",
            "text/plain": [
              "<Figure size 432x288 with 1 Axes>"
            ]
          },
          "metadata": {
            "needs_background": "light"
          },
          "output_type": "display_data"
        },
        {
          "data": {
            "image/png": "[encoded data removed]",
            "text/plain": [
              "<Figure size 1152x360 with 1 Axes>"
            ]
          },
          "metadata": {
            "needs_background": "light"
          },
          "output_type": "display_data"
        }
      ],
      "source": [
        "sns.distplot(loan_data['CoapplicantIncome'])\n",
        "plt.show()\n",
        "loan_data['CoapplicantIncome'].plot.box(figsize=(16,5))\n",
        "plt.show()\n"
      ]
    },
    {
      "cell_type": "markdown",
      "metadata": {
        "id": "bqNoR42gevtY"
      },
      "source": [
        "Nous constatons une répartition similaire à celle des revenus du demandeur. La majorité des revenus des codemandeurs vont de 0 à 5 000. Nous voyons également beaucoup de valeurs aberrantes dans les revenus des candidats et ils ne sont pas normalement distribués."
      ]
    },
    {
      "cell_type": "code",
      "execution_count": 14,
      "metadata": {
        "colab": {
          "base_uri": "https://localhost:8080/",
          "height": 582
        },
        "id": "xPxStOzkestj",
        "outputId": "7f59fa3f-10e4-44b2-aae4-1e832878f8b3"
      },
      "outputs": [
        {
          "data": {
            "image/png": "[encoded data removed]",
            "text/plain": [
              "<Figure size 432x288 with 1 Axes>"
            ]
          },
          "metadata": {
            "needs_background": "light"
          },
          "output_type": "display_data"
        },
        {
          "data": {
            "image/png": "[encoded data removed]",
            "text/plain": [
              "<Figure size 1152x360 with 1 Axes>"
            ]
          },
          "metadata": {
            "needs_background": "light"
          },
          "output_type": "display_data"
        }
      ],
      "source": [
        "loan_data.notna()\n",
        "# train.dropna()\n",
        "# print(train[train['LoanAmount'].isnull()])\n",
        "# train['LoanAmount'] = pd.to_numeric(train['LoanAmount'], errors='coerce')\n",
        "# train = train.dropna(subset=['LoanAmount'])\n",
        "# train['LoanAmount'] = train['LoanAmount'].astype(int)\n",
        "sns.distplot(loan_data['LoanAmount'])\n",
        "plt.show()\n",
        "loan_data['LoanAmount'].plot.box(figsize=(16,5))\n",
        "plt.show()"
      ]
    },
    {
      "cell_type": "markdown",
      "metadata": {
        "id": "oQ-xC7S5e5CP"
      },
      "source": [
        "Nous voyons beaucoup de valeurs aberrantes dans cette variable et la distribution est assez normale. Nous traiterons les valeurs aberrantes dans les sections suivantes."
      ]
    },
    {
      "cell_type": "markdown",
      "metadata": {
        "id": "VIaBKol2e7ts"
      },
      "source": [
        "## Bivariate Analysis\n",
        "Rappelons quelques-unes des hypothèses que nous avons générées précédemment :\n",
        "\n",
        "* Les candidats à revenu élevé devraient avoir plus de chances d'obtenir une approbation de prêt.\n",
        "* Les candidats qui ont remboursé leurs dettes antérieures devraient avoir plus de chances d'obtenir une approbation de prêt.\n",
        "* L'approbation du prêt doit également dépendre du montant du prêt. Si le montant du prêt est inférieur, les chances d'approbation du prêt devraient être élevées.\n",
        "* Moins le montant à payer mensuellement pour rembourser le prêt est élevé, plus les chances d'approbation du prêt sont élevées.\n",
        "Essayons de tester les hypothèses mentionnées ci-dessus en utilisant l'analyse bivariée\n",
        "\n",
        "Après avoir examiné chaque variable individuellement en analyse univariée, nous allons maintenant les explorer à nouveau par rapport à la variable cible."
      ]
    },
    {
      "cell_type": "markdown",
      "metadata": {
        "id": "LArx9yHafZDs"
      },
      "source": [
        "### Categorical Independent Variable vs Target Variable\n",
        "\n",
        "Tout d'abord, nous allons trouver la relation entre la variable cible et les variables indépendantes catégorielles. Examinons maintenant le graphique à barres empilées qui nous donnera la proportion de prêts approuvés et non approuvés."
      ]
    },
    {
      "cell_type": "code",
      "execution_count": 15,
      "metadata": {
        "colab": {
          "base_uri": "https://localhost:8080/",
          "height": 305
        },
        "id": "hAWQ5KbYe19-",
        "outputId": "8e122a29-1200-4ee1-b6f4-a8295f4bd475"
      },
      "outputs": [
        {
          "data": {
            "image/png": "[encoded data removed]",
            "text/plain": [
              "<Figure size 288x288 with 1 Axes>"
            ]
          },
          "metadata": {
            "needs_background": "light"
          },
          "output_type": "display_data"
        }
      ],
      "source": [
        "Gender=pd.crosstab(loan_data['Gender'],loan_data['Loan_Status'])\n",
        "Gender.div(Gender.sum(1).astype(float), axis=0).plot(kind=\"bar\",stacked=True,figsize=(4,4))\n",
        "plt.show()"
      ]
    },
    {
      "cell_type": "markdown",
      "metadata": {
        "id": "iIh0CQYifkwq"
      },
      "source": [
        "On peut en déduire que la proportion d'hommes et de femmes candidats est plus ou moins la même pour les prêts approuvés et non approuvés.\n",
        "\n",
        "Visualisons maintenant les variables catégorielles restantes par rapport à la variable cible."
      ]
    },
    {
      "cell_type": "code",
      "execution_count": 16,
      "metadata": {
        "colab": {
          "base_uri": "https://localhost:8080/",
          "height": 1000
        },
        "id": "wQGVG8xcfhhQ",
        "outputId": "0c14a9e3-5065-4b80-fa88-488bbc60309d"
      },
      "outputs": [
        {
          "data": {
            "image/png": "[encoded data removed]",
            "text/plain": [
              "<Figure size 288x288 with 1 Axes>"
            ]
          },
          "metadata": {
            "needs_background": "light"
          },
          "output_type": "display_data"
        },
        {
          "data": {
            "image/png": "[encoded data removed]",
            "text/plain": [
              "<Figure size 288x288 with 1 Axes>"
            ]
          },
          "metadata": {
            "needs_background": "light"
          },
          "output_type": "display_data"
        },
        {
          "data": {
            "image/png": "[encoded data removed]",
            "text/plain": [
              "<Figure size 288x288 with 1 Axes>"
            ]
          },
          "metadata": {
            "needs_background": "light"
          },
          "output_type": "display_data"
        },
        {
          "data": {
            "image/png": "[encoded data removed]",
            "text/plain": [
              "<Figure size 288x288 with 1 Axes>"
            ]
          },
          "metadata": {
            "needs_background": "light"
          },
          "output_type": "display_data"
        }
      ],
      "source": [
        "Married=pd.crosstab(loan_data['Married'],loan_data['Loan_Status'])\n",
        "Dependents=pd.crosstab(loan_data['Dependents'],loan_data['Loan_Status'])\n",
        "Education=pd.crosstab(loan_data['Education'],loan_data['Loan_Status'])\n",
        "Self_Employed=pd.crosstab(loan_data['Self_Employed'],loan_data['Loan_Status'])\n",
        "Married.div(Married.sum(1).astype(float), axis=0).plot(kind=\"bar\",stacked=True,figsize=(4,4))\n",
        "plt.show()\n",
        "Dependents.div(Dependents.sum(1).astype(float), axis=0).plot(kind=\"bar\",stacked=True,figsize=(4,4))\n",
        "plt.show()\n",
        "Education.div(Education.sum(1).astype(float), axis=0).plot(kind=\"bar\",stacked=True,figsize=(4,4))\n",
        "plt.show()\n",
        "Self_Employed.div(Self_Employed.sum(1).astype(float), axis=0).plot(kind=\"bar\",stacked=True,figsize=(4,4))\n",
        "plt.show()"
      ]
    },
    {
      "cell_type": "markdown",
      "metadata": {
        "id": "UZTiD6_Xfwtk"
      },
      "source": [
        "* La proportion de candidats mariés est plus élevée pour les prêts approuvés.\n",
        "* La répartition des candidats avec 1 ou 3 personnes à charge est similaire dans les deux catégories de Loan_Status.\n",
        "* Il n'y a rien de significatif que nous puissions déduire du graphique Self_Employed vs Loan_Status.\n",
        "\n",
        "\n",
        "Nous allons maintenant examiner la relation entre les variables indépendantes catégorielles restantes et Loan_Status."
      ]
    },
    {
      "cell_type": "code",
      "execution_count": 17,
      "metadata": {
        "colab": {
          "base_uri": "https://localhost:8080/",
          "height": 593
        },
        "id": "sJornyKafuEH",
        "outputId": "bccbf7bd-0874-4934-c857-60430ee930b1"
      },
      "outputs": [
        {
          "data": {
            "image/png": "[encoded data removed]",
            "text/plain": [
              "<Figure size 288x288 with 1 Axes>"
            ]
          },
          "metadata": {
            "needs_background": "light"
          },
          "output_type": "display_data"
        },
        {
          "data": {
            "image/png": "[encoded data removed]",
            "text/plain": [
              "<Figure size 432x288 with 1 Axes>"
            ]
          },
          "metadata": {
            "needs_background": "light"
          },
          "output_type": "display_data"
        }
      ],
      "source": [
        "Credit_History=pd.crosstab(loan_data['Credit_History'],loan_data['Loan_Status'])\n",
        "Property_Area=pd.crosstab(loan_data['Property_Area'],loan_data['Loan_Status'])\n",
        "Credit_History.div(Credit_History.sum(1).astype(float), axis=0).plot(kind=\"bar\",stacked=True,figsize=(4,4))\n",
        "plt.show()\n",
        "Property_Area.div(Property_Area.sum(1).astype(float), axis=0).plot(kind=\"bar\",stacked=True)\n",
        "plt.show()"
      ]
    },
    {
      "cell_type": "markdown",
      "metadata": {
        "id": "wpqBjEBugA-f"
      },
      "source": [
        "* Il semble que les personnes ayant des antécédents de crédit comme 1 soient plus susceptibles d'obtenir l'approbation de leurs prêts.*\n",
        "* La proportion de prêts approuvés dans la zone semi-urbaine est plus élevée que dans les zones rurales ou urbaines.\n",
        "\n",
        "Visualisons maintenant les variables numériques indépendantes par rapport à la variable cible."
      ]
    },
    {
      "cell_type": "markdown",
      "metadata": {
        "id": "2qclEGkbgEik"
      },
      "source": [
        "### Numerical Independent Variable vs Target Variable\n",
        "\n",
        "Nous allons essayer de trouver le revenu moyen des personnes pour lesquelles le prêt a été approuvé vs le revenu moyen des personnes pour lesquelles le prêt n'a pas été approuvé."
      ]
    },
    {
      "cell_type": "code",
      "execution_count": 18,
      "metadata": {
        "colab": {
          "base_uri": "https://localhost:8080/",
          "height": 294
        },
        "id": "jt5p1yt_f-aa",
        "outputId": "6f21811d-ed57-4408-e74d-8837fef37a13"
      },
      "outputs": [
        {
          "data": {
            "text/plain": [
              "<AxesSubplot:xlabel='Loan_Status'>"
            ]
          },
          "execution_count": 18,
          "metadata": {},
          "output_type": "execute_result"
        },
        {
          "data": {
            "image/png": "[encoded data removed]",
            "text/plain": [
              "<Figure size 432x288 with 1 Axes>"
            ]
          },
          "metadata": {
            "needs_background": "light"
          },
          "output_type": "display_data"
        }
      ],
      "source": [
        "loan_data.groupby('Loan_Status')['ApplicantIncome'].mean().plot.bar()"
      ]
    },
    {
      "cell_type": "markdown",
      "metadata": {
        "id": "Kic2ss43gNUg"
      },
      "source": [
        "Ici, l'axe des y représente le revenu moyen du demandeur. Nous ne voyons aucun changement dans le revenu moyen. Créons donc des cases pour la variable de revenu du demandeur en fonction des valeurs qu'elle contient et analysons le statut de prêt correspondant pour chaque case."
      ]
    },
    {
      "cell_type": "code",
      "execution_count": 19,
      "metadata": {
        "colab": {
          "base_uri": "https://localhost:8080/",
          "height": 317
        },
        "id": "LlMmbw6RgKta",
        "outputId": "1eb227de-ff51-424d-832c-4a9201feff77"
      },
      "outputs": [
        {
          "data": {
            "image/png": "[encoded data removed]",
            "text/plain": [
              "<Figure size 432x288 with 1 Axes>"
            ]
          },
          "metadata": {
            "needs_background": "light"
          },
          "output_type": "display_data"
        }
      ],
      "source": [
        "bins=[0,2500,4000,6000,81000]\n",
        "group=['Low','Average','High','Very high']\n",
        "loan_data['Income_bin']=pd.cut(loan_data['ApplicantIncome'],bins,labels=group)\n",
        "Income_bin=pd.crosstab(loan_data['Income_bin'],loan_data['Loan_Status'])\n",
        "Income_bin.div(Income_bin.sum(1).astype(float), axis=0).plot(kind=\"bar\",stacked=True)\n",
        "plt.xlabel('ApplicantIncome')\n",
        "P=plt.ylabel('Percentage')"
      ]
    },
    {
      "cell_type": "markdown",
      "metadata": {
        "id": "ljfvvwIygeXg"
      },
      "source": [
        "On peut en déduire que le revenu du demandeur n'affecte pas les chances d'approbation du prêt, ce qui contredit notre hypothèse dans laquelle nous supposons que si le revenu du demandeur est élevé, les chances d'approbation du prêt le seront également.\n",
        "\n",
        "Nous analyserons le revenu du codemandeur et la variable du montant du prêt de la même manière."
      ]
    },
    {
      "cell_type": "code",
      "execution_count": 20,
      "metadata": {
        "colab": {
          "base_uri": "https://localhost:8080/",
          "height": 310
        },
        "id": "pWTTqhrcgWRH",
        "outputId": "16ac1259-945f-48f2-f9a8-83ac906a9415"
      },
      "outputs": [
        {
          "data": {
            "image/png": "[encoded data removed]",
            "text/plain": [
              "<Figure size 432x288 with 1 Axes>"
            ]
          },
          "metadata": {
            "needs_background": "light"
          },
          "output_type": "display_data"
        }
      ],
      "source": [
        "bins=[0,1000,3000,42000]\n",
        "group=['Low','Average','High']\n",
        "loan_data['Coapplicant_Income_bin']=pd.cut(loan_data['CoapplicantIncome'],bins,labels=group)\n",
        "Coapplicant_Income_bin=pd.crosstab(loan_data['Coapplicant_Income_bin'],loan_data['Loan_Status'])\n",
        "Coapplicant_Income_bin.div(Coapplicant_Income_bin.sum(1).astype(float), axis=0).plot(kind=\"bar\",stacked=True)\n",
        "plt.xlabel('CoapplicantIncome')\n",
        "P=plt.ylabel('Percentage')"
      ]
    },
    {
      "cell_type": "markdown",
      "metadata": {
        "id": "iAmXeaXcgq4S"
      },
      "source": [
        "Il montre que si le revenu des codemandeurs est moindre, les chances d'approbation du prêt sont élevées. Mais cela ne semble pas correct. La raison possible derrière cela peut être que la plupart des demandeurs n'ont pas de codemandeur, donc le revenu du codemandeur pour ces demandeurs est de 0 et donc l'approbation du prêt n'en dépend pas. Ainsi, nous pouvons créer une nouvelle variable dans laquelle nous combinerons les revenus du demandeur et des codemandeurs pour visualiser l'effet combiné des revenus sur l'approbation du prêt.\n",
        "\n",
        "Combinons le revenu du demandeur et le revenu du codemandeur et voyons l'effet combiné du revenu total sur le Loan_Status."
      ]
    },
    {
      "cell_type": "code",
      "execution_count": 21,
      "metadata": {
        "colab": {
          "base_uri": "https://localhost:8080/",
          "height": 318
        },
        "id": "1wUYa9LHgoYE",
        "outputId": "c91c1304-f8ba-4e47-9ed4-5098e1e890b2"
      },
      "outputs": [
        {
          "data": {
            "image/png": "[encoded data removed]",
            "text/plain": [
              "<Figure size 432x288 with 1 Axes>"
            ]
          },
          "metadata": {
            "needs_background": "light"
          },
          "output_type": "display_data"
        }
      ],
      "source": [
        "loan_data['Total_Income']=loan_data['ApplicantIncome']+loan_data['CoapplicantIncome']\n",
        "bins=[0,2500,4000,6000,81000]\n",
        "group=['Low','Average','High','Very high']\n",
        "loan_data['Total_Income_bin']=pd.cut(loan_data['Total_Income'],bins,labels=group)\n",
        "Total_Income_bin=pd.crosstab(loan_data['Total_Income_bin'],loan_data['Loan_Status'])\n",
        "Total_Income_bin.div(Total_Income_bin.sum(1).astype(float), axis=0).plot(kind=\"bar\",stacked=True)\n",
        "plt.xlabel('Total_Income')\n",
        "P=plt.ylabel('Percentage')"
      ]
    },
    {
      "cell_type": "markdown",
      "metadata": {
        "id": "jGBqPRkWg1kg"
      },
      "source": [
        "Nous pouvons voir que la proportion de prêts approuvés pour les candidats ayant un faible revenu total est très inférieure à celle des candidats ayant un revenu moyen, élevé et très élevé.\n",
        "\n",
        "Visualisons la variable Montant du prêt."
      ]
    },
    {
      "cell_type": "code",
      "execution_count": 22,
      "metadata": {
        "colab": {
          "base_uri": "https://localhost:8080/",
          "height": 310
        },
        "id": "E9_4ARsQgwCa",
        "outputId": "b583e906-cf3a-476f-d12e-ec170207e31c"
      },
      "outputs": [
        {
          "data": {
            "image/png": "[encoded data removed]",
            "text/plain": [
              "<Figure size 432x288 with 1 Axes>"
            ]
          },
          "metadata": {
            "needs_background": "light"
          },
          "output_type": "display_data"
        }
      ],
      "source": [
        "bins=[0,100,200,700]\n",
        "group=['Low','Average','High']\n",
        "loan_data['LoanAmount_bin']=pd.cut(loan_data['LoanAmount'],bins,labels=group)\n",
        "LoanAmount_bin=pd.crosstab(loan_data['LoanAmount_bin'],loan_data['Loan_Status'])\n",
        "LoanAmount_bin.div(LoanAmount_bin.sum(1).astype(float), axis=0).plot(kind=\"bar\",stacked=True)\n",
        "plt.xlabel('LoanAmount')\n",
        "P=plt.ylabel('Percentage')"
      ]
    },
    {
      "cell_type": "markdown",
      "metadata": {
        "id": "vh6TH2Wpg-Md"
      },
      "source": [
        "On peut voir que la proportion de prêts approuvés est plus élevée pour le montant du prêt faible et moyen par rapport à celle du montant du prêt élevé, ce qui soutient notre hypothèse dans laquelle nous avons considéré que les chances d'approbation du prêt seront élevées lorsque le montant du prêt est inférieur.\n",
        "\n",
        "Laissons tomber les bacs que nous avons créés pour la partie exploration. Nous allons changer la variable 3+ dans les dépendances en 3 pour en faire une variable numérique. Nous allons également convertir les catégories de la variable cible en 0 et 1 afin que nous puissions trouver sa corrélation avec les variables numériques. Une autre raison de le faire est que peu de modèles comme la régression logistique n'utilisent que des valeurs numériques en entrée. Nous remplacerons N par 0 et Y par 1."
      ]
    },
    {
      "cell_type": "code",
      "execution_count": 23,
      "metadata": {
        "id": "BAfRwvhOg63R"
      },
      "outputs": [],
      "source": [
        "# print(train.dtypes)\n",
        "loan_data=loan_data.drop(['Income_bin', 'Coapplicant_Income_bin', 'LoanAmount_bin', 'Total_Income_bin', 'Total_Income'], axis=1)\n",
        "loan_data['Dependents'].replace('3+', 3,inplace=True)\n",
        "test_data['Dependents'].replace('3+', 3,inplace=True)\n"
      ]
    },
    {
      "cell_type": "markdown",
      "metadata": {
        "id": "sY_FBzcWhR1e"
      },
      "source": [
        "Regardons maintenant la corrélation entre toutes les variables numériques. Nous utiliserons la carte thermique pour visualiser la corrélation. Les cartes thermiques visualisent les données à travers des variations de coloration. Les variables de couleur plus foncée signifient que leur corrélation est plus élevée."
      ]
    },
    {
      "cell_type": "code",
      "execution_count": 24,
      "metadata": {
        "colab": {
          "base_uri": "https://localhost:8080/",
          "height": 482
        },
        "id": "t4HVuXAZhPrT",
        "outputId": "7aaffba4-2c7e-4f72-ea01-2d1763212494"
      },
      "outputs": [
        {
          "data": {
            "text/plain": [
              "<AxesSubplot:>"
            ]
          },
          "execution_count": 24,
          "metadata": {},
          "output_type": "execute_result"
        },
        {
          "data": {
            "image/png": "[encoded data removed]",
            "text/plain": [
              "<Figure size 648x432 with 2 Axes>"
            ]
          },
          "metadata": {
            "needs_background": "light"
          },
          "output_type": "display_data"
        }
      ],
      "source": [
        "matrix = loan_data.corr()\n",
        "f, ax = plt.subplots(figsize=(9,6))\n",
        "sns.heatmap(matrix,vmax=.8,square=True,cmap=\"BuPu\", annot = True)\n"
      ]
    },
    {
      "cell_type": "markdown",
      "metadata": {
        "id": "tvetZrD7huL_"
      },
      "source": [
        "Nous voyons que les variables les plus corrélées sont (ApplicantIncome - LoanAmount) et (Credit_History - Loan_Status).\n",
        "\n",
        "(LoanAmount est également corrélé avec CoapplicantIncome)."
      ]
    },
    {
      "cell_type": "markdown",
      "metadata": {
        "id": "-lAgTNcHiA1k"
      },
      "source": [
        "## Missing value imputation\n",
        "\n",
        "Listons le nombre de valeurs manquantes en fonction des fonctionnalités."
      ]
    },
    {
      "cell_type": "code",
      "execution_count": 25,
      "metadata": {
        "colab": {
          "base_uri": "https://localhost:8080/"
        },
        "id": "SSNzRgpmhXVA",
        "outputId": "2ac60014-d02f-47b6-cf27-bf8990d9e47e"
      },
      "outputs": [
        {
          "data": {
            "text/plain": [
              "Loan_ID               0\n",
              "Gender               10\n",
              "Married               1\n",
              "Dependents            9\n",
              "Education             0\n",
              "Self_Employed        29\n",
              "ApplicantIncome       0\n",
              "CoapplicantIncome     0\n",
              "LoanAmount           16\n",
              "Loan_Amount_Term     13\n",
              "Credit_History       43\n",
              "Property_Area         0\n",
              "Loan_Status           0\n",
              "dtype: int64"
            ]
          },
          "execution_count": 25,
          "metadata": {},
          "output_type": "execute_result"
        }
      ],
      "source": [
        "loan_data.isnull().sum()"
      ]
    },
    {
      "cell_type": "markdown",
      "metadata": {
        "id": "7Xddxx2OiKOw"
      },
      "source": [
        "Il manque des valeurs dans les fonctionnalités Sexe, Marié, Personnes à charge, Travailleur indépendant, Montant du prêt, Montant_du_prêt_Terme et Historique_crédit.\n",
        "\n",
        "Nous traiterons les valeurs manquantes dans toutes les fonctionnalités une par une.\n",
        "\n",
        "On peut considérer ces méthodes pour remplir les valeurs manquantes :\n",
        "\n",
        "   * Pour les variables numériques : imputation par moyenne ou médiane\n",
        "   * Pour les variables catégorielles : imputation par mode\n",
        "  \n",
        "Il y a très moins de valeurs manquantes dans les fonctionnalités Sexe, Marié, Personnes à charge, Historique de crédit et Travailleur indépendant, nous pouvons donc les remplir en utilisant le mode des fonctionnalités."
      ]
    },
    {
      "cell_type": "code",
      "execution_count": 26,
      "metadata": {
        "id": "a5vkTm9DiGkB"
      },
      "outputs": [],
      "source": [
        "loan_data['Gender'].fillna(loan_data['Gender'].mode()[0], inplace=True)\n",
        "loan_data['Married'].fillna(loan_data['Married'].mode()[0], inplace=True)\n",
        "loan_data['Dependents'].fillna(loan_data['Dependents'].mode()[0], inplace=True)\n",
        "loan_data['Self_Employed'].fillna(loan_data['Self_Employed'].mode()[0], inplace=True)\n",
        "loan_data['Credit_History'].fillna(loan_data['Credit_History'].mode()[0], inplace=True)"
      ]
    },
    {
      "cell_type": "markdown",
      "metadata": {
        "id": "UOYvUrfNiiY8"
      },
      "source": [
        "Essayons maintenant de trouver un moyen de remplir les valeurs manquantes dans Loan_Amount_Term. Nous examinerons le nombre de valeurs de la variable Durée du montant du prêt"
      ]
    },
    {
      "cell_type": "code",
      "execution_count": 27,
      "metadata": {
        "colab": {
          "base_uri": "https://localhost:8080/"
        },
        "id": "lfjLhkGlif6d",
        "outputId": "2d5f311b-cdc0-4daf-eb64-bcffbbf2563c"
      },
      "outputs": [
        {
          "data": {
            "text/plain": [
              "360.0    404\n",
              "180.0     35\n",
              "480.0     13\n",
              "300.0     12\n",
              "84.0       4\n",
              "240.0      3\n",
              "120.0      3\n",
              "36.0       2\n",
              "12.0       1\n",
              "60.0       1\n",
              "Name: Loan_Amount_Term, dtype: int64"
            ]
          },
          "execution_count": 27,
          "metadata": {},
          "output_type": "execute_result"
        }
      ],
      "source": [
        "loan_data['Loan_Amount_Term'].value_counts()\n"
      ]
    },
    {
      "cell_type": "markdown",
      "metadata": {
        "id": "YPiYSeOWiqLa"
      },
      "source": [
        "On peut voir que dans la variable de durée du montant du prêt, la valeur de 360 se répète le plus. Nous allons donc remplacer les valeurs manquantes dans cette variable en utilisant le mode de cette variable."
      ]
    },
    {
      "cell_type": "code",
      "execution_count": 28,
      "metadata": {
        "id": "Sx6SdGmAimsJ"
      },
      "outputs": [],
      "source": [
        "loan_data['Loan_Amount_Term'].fillna(loan_data['Loan_Amount_Term'].mode()[0], inplace=True)"
      ]
    },
    {
      "cell_type": "markdown",
      "metadata": {
        "id": "qZohh9_-i1rQ"
      },
      "source": [
        "Nous allons maintenant voir la variable LoanAmount. Comme il s'agit d'une variable numérique, nous pouvons utiliser la moyenne ou la médiane pour imputer les valeurs manquantes. Nous utiliserons la médiane pour remplir les valeurs nulles car nous avons vu précédemment que le montant du prêt a des valeurs aberrantes, donc la moyenne ne sera pas la bonne approche car elle est fortement affectée par la présence de valeurs aberrantes."
      ]
    },
    {
      "cell_type": "code",
      "execution_count": 29,
      "metadata": {
        "id": "DEc_fCzBiyBp"
      },
      "outputs": [],
      "source": [
        "loan_data['LoanAmount'].fillna(loan_data['LoanAmount'].median(), inplace=True)"
      ]
    },
    {
      "cell_type": "markdown",
      "metadata": {
        "id": "jXPgX_9Ci8pJ"
      },
      "source": [
        "Vérifions maintenant si toutes les valeurs manquantes sont renseignées dans l'ensemble de données."
      ]
    },
    {
      "cell_type": "code",
      "execution_count": 30,
      "metadata": {
        "colab": {
          "base_uri": "https://localhost:8080/"
        },
        "id": "OhAu8Iywi5O8",
        "outputId": "798c49d6-931f-4d7a-99f6-e083b0ef2d86"
      },
      "outputs": [
        {
          "data": {
            "text/plain": [
              "Loan_ID              0\n",
              "Gender               0\n",
              "Married              0\n",
              "Dependents           0\n",
              "Education            0\n",
              "Self_Employed        0\n",
              "ApplicantIncome      0\n",
              "CoapplicantIncome    0\n",
              "LoanAmount           0\n",
              "Loan_Amount_Term     0\n",
              "Credit_History       0\n",
              "Property_Area        0\n",
              "Loan_Status          0\n",
              "dtype: int64"
            ]
          },
          "execution_count": 30,
          "metadata": {},
          "output_type": "execute_result"
        }
      ],
      "source": [
        "loan_data.isnull().sum()"
      ]
    },
    {
      "cell_type": "markdown",
      "metadata": {
        "id": "lPDNPx33jGcO"
      },
      "source": [
        "Comme nous pouvons le voir, toutes les valeurs manquantes ont été renseignées dans l'ensemble de données de test. Remplissons également toutes les valeurs manquantes dans l'ensemble de données de test avec la même approche."
      ]
    },
    {
      "cell_type": "code",
      "execution_count": 31,
      "metadata": {
        "id": "0Nx5juL6jA9z"
      },
      "outputs": [],
      "source": [
        "test_data['Gender'].fillna(loan_data['Gender'].mode()[0], inplace=True)\n",
        "test_data['Married'].fillna(loan_data['Married'].mode()[0], inplace=True)\n",
        "test_data['Dependents'].fillna(loan_data['Dependents'].mode()[0], inplace=True)\n",
        "test_data['Self_Employed'].fillna(loan_data['Self_Employed'].mode()[0], inplace=True)\n",
        "test_data['Credit_History'].fillna(loan_data['Credit_History'].mode()[0], inplace=True)\n",
        "test_data['Loan_Amount_Term'].fillna(loan_data['Loan_Amount_Term'].mode()[0], inplace=True)\n",
        "test_data['LoanAmount'].fillna(loan_data['LoanAmount'].median(), inplace=True)"
      ]
    },
    {
      "cell_type": "markdown",
      "metadata": {
        "id": "j0qTkl95jl4E"
      },
      "source": [
        "## Outlier Treatement"
      ]
    },
    {
      "cell_type": "markdown",
      "metadata": {
        "id": "RJxcv5mMjov9"
      },
      "source": [
        "Comme nous l'avons vu précédemment dans l'analyse univariée, LoanAmount contient des valeurs aberrantes, nous devons donc les traiter car la présence de valeurs aberrantes affecte la distribution des données.\n",
        "\n",
        "Examinons ce qui peut arriver à un ensemble de données avec __outliers__.\n",
        "\n",
        "Pour l'exemple de jeu de données :\n",
        "\n",
        "__1,1,2,2,2,2,3,3,3,4,4__\n",
        "\n",
        "Nous trouvons les éléments suivants : moyenne, médiane, mode et écart type\n",
        "\n",
        "* Moyenne = 2,58\n",
        "* Médiane = 2,5\n",
        "* Mode=2\n",
        "* Écart type = 1,08\n",
        "\n",
        "Si nous ajoutons une valeur aberrante à l'ensemble de données :\n",
        "\n",
        "__1,1,2,2,2,2,3,3,3,4,4,400__\n",
        "\n",
        "Les nouvelles valeurs de nos statistiques sont :\n",
        "\n",
        "* Moyenne = 35,38\n",
        "* Médiane = 2,5\n",
        "* Mode=2\n",
        "* Écart type = 114,74\n",
        "\n",
        "On peut voir que le fait d'avoir des valeurs aberrantes a souvent un effet significatif sur la moyenne et l'écart type et affecte donc la distribution.\n",
        "\n",
        "Nous devons prendre des mesures pour supprimer les valeurs aberrantes de nos ensembles de données.\n",
        "\n",
        "En raison de ces valeurs aberrantes, la majeure partie des données du montant du prêt se trouve à gauche et la queue à droite est plus longue.\n",
        "\n",
        "C'est ce qu'on appelle __droite asymétrie__. Une façon de supprimer le __skewness__ consiste à effectuer la transformation __log.__\n",
        "\n",
        "Lorsque nous prenons la transformation __log__, cela n'affecte pas beaucoup les valeurs les plus petites, mais réduit les valeurs les plus élevées. Ainsi, nous obtenons une __distribution__ similaire à la __distribution normale__.\n",
        "\n",
        "Visualisons l'effet de __log transformation__. Nous apporterons les mêmes modifications au fichier de test simultanément."
      ]
    },
    {
      "cell_type": "code",
      "execution_count": 32,
      "metadata": {
        "colab": {
          "base_uri": "https://localhost:8080/",
          "height": 265
        },
        "id": "e8FpMuJFjTk-",
        "outputId": "145569ba-5e35-409d-80fb-5c800978c330"
      },
      "outputs": [
        {
          "data": {
            "image/png": "[encoded data removed]",
            "text/plain": [
              "<Figure size 432x288 with 1 Axes>"
            ]
          },
          "metadata": {
            "needs_background": "light"
          },
          "output_type": "display_data"
        }
      ],
      "source": [
        "loan_data['LoanAmount_log']=np.log(loan_data['LoanAmount'])\n",
        "loan_data['LoanAmount_log'].hist(bins=20)\n",
        "test_data['LoanAmount_log']=np.log(test_data['LoanAmount'])"
      ]
    },
    {
      "cell_type": "markdown",
      "metadata": {
        "id": "lXR1ELm1kcwR"
      },
      "source": [
        "Maintenant, la distribution semble beaucoup plus proche de la normale et l'effet des valeurs extrêmes s'est considérablement atténué.\n",
        "\n",
        "Construisons un modèle de régression logistique et faisons des prédictions pour l'ensemble de données de test."
      ]
    },
    {
      "cell_type": "markdown",
      "metadata": {
        "id": "7Dv8igINk2ru"
      },
      "source": [
        "# Model Building : \n",
        "\n",
        "## __Partie I__\n",
        "\n",
        "Faisons notre premier modèle pour prédire la variable cible. Nous commencerons par la régression logistique qui est utilisée pour prédire le résultat binaire.\n",
        "\n",
        "* La régression logistique est un algorithme de classification. Il est utilisé pour prédire un résultat binaire (1/0, Oui/Non, Vrai/Faux) étant donné un ensemble de variables indépendantes.\n",
        "* La régression logistique est une estimation de la fonction Logit. La fonction Logit est simplement un journal des cotes en faveur de l'événement.\n",
        "Cette fonction crée une courbe en forme de S avec l'estimation de la probabilité, qui est très similaire à la fonction pas à pas requise\n",
        "\n",
        "Pour en savoir plus sur la régression logistique, reportez-vous à cet article : https://www.analyticsvidhya.com/blog/2015/10/basics-logistic-regression/\n",
        "Laissons tomber la variable Loan_ID car elle n'a aucun effet sur le statut du prêt. Nous apporterons les mêmes modifications à l'ensemble de données de test que nous avons apportées à l'ensemble de données d'entraînement."
      ]
    },
    {
      "cell_type": "code",
      "execution_count": 33,
      "metadata": {
        "id": "lrQrnGWAkZyH"
      },
      "outputs": [],
      "source": [
        "loan_data=loan_data.drop('Loan_ID',axis=1)\n",
        "test_data=test_data.drop('Loan_ID',axis=1)"
      ]
    },
    {
      "cell_type": "markdown",
      "metadata": {
        "id": "S3EpJizqlMwm"
      },
      "source": [
        "Nous utiliserons scikit-learn (sklearn) pour créer différents modèles, qui est une bibliothèque open source pour Python. C'est l'un des outils les plus efficaces qui contient de nombreuses fonctions intégrées pouvant être utilisées pour la modélisation en Python.\n",
        "\n",
        "Pour en savoir plus sur sklearn, référez-vous ici : http://scikit-learn.org/stable/tutorial/index.html\n",
        "\n",
        "Sklearn requiert la variable cible dans un ensemble de données distinct. Nous allons donc supprimer notre variable cible de l'ensemble de données entrainé et l'enregistrer dans un autre ensemble de données."
      ]
    },
    {
      "cell_type": "code",
      "execution_count": 34,
      "metadata": {
        "id": "7QjdWr59lKUS"
      },
      "outputs": [],
      "source": [
        "X = loan_data.drop('Loan_Status',axis=1)\n",
        "y = loan_data.Loan_Status"
      ]
    },
    {
      "cell_type": "markdown",
      "metadata": {
        "id": "kFRzKB0zllM2"
      },
      "source": [
        "Nous allons maintenant créer des variables muettes pour les variables catégorielles. La variable fictive transforme les variables catégorielles en une série de 0 et 1, ce qui les rend beaucoup plus faciles à quantifier et à comparer. Comprenons d'abord le processus des mannequins :\n",
        "\n",
        "* Considérez la variable « Sexe ». Il a deux classes, « Homme et Femme ».\n",
        "* Comme la régression logistique ne prend en entrée que les valeurs numériques, nous devons changer le masculin et le féminin en valeur numérique.\n",
        "* Une fois que nous avons appliqué des variables factices à cette variable, la variable \"Sexe\" sera convertie en deux variables (Gender_Male et Gender_Female), une pour chaque classe, c'est-à-dire Homme et Femme.\n",
        "* Gender_Male aura une valeur de 0 si le genre est Femme et une valeur de 1 si le genre est Homme."
      ]
    },
    {
      "cell_type": "code",
      "execution_count": 35,
      "metadata": {
        "id": "j2t71xLVmEim"
      },
      "outputs": [],
      "source": [
        "train = loan_data.copy()\n",
        "test = test_data.copy()"
      ]
    },
    {
      "cell_type": "code",
      "execution_count": 36,
      "metadata": {
        "id": "bGgVNwc8lh0k"
      },
      "outputs": [],
      "source": [
        "X = pd.get_dummies(X)\n",
        "train=pd.get_dummies(train)\n",
        "test=pd.get_dummies(test)"
      ]
    },
    {
      "cell_type": "markdown",
      "metadata": {
        "id": "OVk6CQCrmISR"
      },
      "source": [
        "Nous allons maintenant entraîner le modèle sur l'ensemble de données d'entraînement et faire des prédictions pour l'ensemble de données de test. Mais peut-on valider ces prédictions ? Une façon de le faire est de diviser notre ensemble de données d'entraînement en deux parties : l'entraînement et la validation. Nous pouvons entraîner le modèle sur cette partie de train et l'utiliser pour faire des prédictions pour la partie de validation. De cette façon, nous pouvons valider nos prédictions car nous avons les vraies prédictions pour la partie validation (que nous n'avons pas pour l'ensemble de données de test).\n",
        "\n",
        "Nous utiliserons la fonction train_test_split de sklearn pour diviser notre ensemble de données de train. Alors, commençons par importer train_test_split."
      ]
    },
    {
      "cell_type": "code",
      "execution_count": 37,
      "metadata": {
        "id": "pWRH9TuDmFys"
      },
      "outputs": [],
      "source": [
        "from sklearn.model_selection import train_test_split\n",
        "x_train, x_valid, y_train, y_valid = train_test_split(X,y, test_size=0.3)"
      ]
    },
    {
      "cell_type": "markdown",
      "metadata": {
        "id": "1743UgiCmo4B"
      },
      "source": [
        "L'ensemble de données a été divisé en partie d'entraînement et de validation. Importons LogisticRegression et precision_score depuis sklearn et ajustons le modèle de régression logistique."
      ]
    },
    {
      "cell_type": "code",
      "execution_count": 38,
      "metadata": {
        "colab": {
          "base_uri": "https://localhost:8080/"
        },
        "id": "dVUlzchwmmaQ",
        "outputId": "c20f83da-9f2c-4c39-a0cd-9d9b18c4a8fb"
      },
      "outputs": [
        {
          "data": {
            "text/plain": [
              "LogisticRegression()"
            ]
          },
          "execution_count": 38,
          "metadata": {},
          "output_type": "execute_result"
        }
      ],
      "source": [
        "from sklearn.linear_model import LogisticRegression\n",
        "from sklearn.metrics import accuracy_score, f1_score\n",
        "model = LogisticRegression()\n",
        "model.fit(x_train, y_train)\n",
        "# LogisticRegression(C=1.0, class_weight=None, dual=False, fit_intercept=True, intercept_scaling=1, max_iter=100, multi_class='ovr', n_jobs=1, penalty='12',random_state=1, solver='liblinear', tol=0.0001, verbose=0, warm_start=False)"
      ]
    },
    {
      "cell_type": "markdown",
      "metadata": {
        "id": "yb76er5rm373"
      },
      "source": [
        "Prédisons l'ensemble Loan_Status pour la validation et calculons sa précision."
      ]
    },
    {
      "cell_type": "code",
      "execution_count": 39,
      "metadata": {
        "colab": {
          "base_uri": "https://localhost:8080/"
        },
        "id": "SnWJ9ZJgmx4a",
        "outputId": "9b1b2256-fba8-4cb8-e495-2c2a94b54bca"
      },
      "outputs": [
        {
          "name": "stdout",
          "output_type": "stream",
          "text": [
            "Model Accuracy =  0.7837837837837838\n",
            "Model F1-Score =  0.8545454545454546\n"
          ]
        }
      ],
      "source": [
        "pred_cv = model.predict(x_valid)\n",
        "print('Model Accuracy = ', accuracy_score(y_valid,pred_cv))\n",
        "print('Model F1-Score = ', f1_score(y_valid,pred_cv))"
      ]
    },
    {
      "cell_type": "markdown",
      "metadata": {
        "id": "eanyJrbHniCW"
      },
      "source": [
        "Nos prévisions sont donc exactes à près de 80 %, c'est-à-dire que nous avons identifié correctement 80 % de l'état du prêt.\n",
        "\n",
        "Faisons des prédictions pour l'ensemble de données de test."
      ]
    },
    {
      "cell_type": "code",
      "execution_count": 40,
      "metadata": {
        "id": "8wb8LtVLm6hT"
      },
      "outputs": [],
      "source": [
        "pred_test = model.predict(test)"
      ]
    },
    {
      "cell_type": "markdown",
      "metadata": {
        "id": "iXdryvVnnp4f"
      },
      "source": [
        "## __Prediction Test data & téléchargement pour vérifier la solution__"
      ]
    },
    {
      "cell_type": "code",
      "execution_count": null,
      "metadata": {},
      "outputs": [],
      "source": [
        "res = pd.DataFrame(pred_test) \n",
        "res.index = test_data.index \n",
        "res.columns = [\"prediction\"]\n",
        "\n",
        "# pour télécharger le fichier csv localement\n",
        "from google.colab import files\n",
        "res.to_csv('datathon_loan_lr.csv', index=False)         \n",
        "files.download('datathon_loan_lr.csv')"
      ]
    },
    {
      "cell_type": "markdown",
      "metadata": {
        "id": "nE6QPSTvpAzh"
      },
      "source": [
        "Nous avons un score :  __#9\t85.39325842696628__"
      ]
    },
    {
      "cell_type": "markdown",
      "metadata": {
        "id": "Kfnh78Ado_HE"
      },
      "source": [
        "## Logistic Regression using stratified k-folds cross validation"
      ]
    },
    {
      "cell_type": "markdown",
      "metadata": {
        "id": "GumuVdLepRnT"
      },
      "source": [
        "Pour vérifier la robustesse de notre modèle aux données invisibles, nous pouvons utiliser la validation. C'est une technique qui consiste à réserver un échantillon particulier d'un jeu de données sur lequel vous n'entraînez pas le modèle. Plus tard, vous testez votre modèle sur cet échantillon avant de le finaliser. Certaines des méthodes courantes de validation sont énumérées ci-dessous :\n",
        "\n",
        "* L'approche des ensembles de validation\n",
        "* validation croisée k-fold\n",
        "* Omettre une validation croisée (LOOCV)\n",
        "* Validation croisée stratifiée k-fold\n",
        "\n",
        "\n",
        "Si vous souhaitez en savoir plus sur les techniques de validation, veuillez vous référer à cet article : https://www.analyticsvidhya.com/blog/2018/05/improve-model-performance-cross-validation-in-python-r/\n",
        "\n",
        "Dans cette section, nous allons en apprendre davantage sur la validation croisée stratifiée k-fold. Laissez-nous comprendre comment cela fonctionne:\n",
        "\n",
        "* La stratification est le processus de réorganisation des données afin de s'assurer que chaque pli est un bon représentant de l'ensemble.\n",
        "* Par exemple, dans un problème de classification binaire où chaque classe comprend 50% des données, il est préférable d'organiser les données de telle sorte que dans chaque pli, chaque classe comprend environ la moitié des instances.\n",
        "* C'est généralement une meilleure approche pour traiter à la fois le biais et la variance.\n",
        "* Un pli sélectionné au hasard peut ne pas représenter adéquatement la classe mineure, en particulier dans les cas où il y a un énorme déséquilibre de classe.\n",
        "\n",
        "\n",
        "Importons StratifiedKFold depuis sklearn et adaptons le modèle."
      ]
    },
    {
      "cell_type": "code",
      "execution_count": null,
      "metadata": {
        "id": "BY4feSybocP8"
      },
      "outputs": [],
      "source": [
        "from sklearn.model_selection import StratifiedKFold"
      ]
    },
    {
      "cell_type": "markdown",
      "metadata": {
        "id": "UbAmE8uLpkdo"
      },
      "source": [
        "Créons maintenant un modèle logistique de validation croisée avec 5 plis stratifiés et faisons des prédictions pour l'ensemble de données de test"
      ]
    },
    {
      "cell_type": "code",
      "execution_count": null,
      "metadata": {
        "colab": {
          "base_uri": "https://localhost:8080/"
        },
        "id": "qXf4PE6LpiPX",
        "outputId": "0bf1878d-1b91-4a60-d9c9-04d1e489aaa0"
      },
      "outputs": [
        {
          "name": "stdout",
          "output_type": "stream",
          "text": [
            "\n",
            "1 of kfold 5 \n",
            "#######################\n",
            "accuracy_score 0.8181818181818182\n",
            "-------------------------\n",
            "F1 Score  0.881578947368421\n",
            "#######################\n",
            "\n",
            "2 of kfold 5 \n",
            "#######################\n",
            "accuracy_score 0.7551020408163265\n",
            "-------------------------\n",
            "F1 Score  0.8356164383561644\n",
            "#######################\n",
            "\n",
            "3 of kfold 5 \n",
            "#######################\n",
            "accuracy_score 0.7551020408163265\n",
            "-------------------------\n",
            "F1 Score  0.8500000000000001\n",
            "#######################\n",
            "\n",
            "4 of kfold 5 \n",
            "#######################\n",
            "accuracy_score 0.8367346938775511\n",
            "-------------------------\n",
            "F1 Score  0.8840579710144928\n",
            "#######################\n",
            "\n",
            "5 of kfold 5 \n",
            "#######################\n",
            "accuracy_score 0.7959183673469388\n",
            "-------------------------\n",
            "F1 Score  0.8684210526315789\n",
            "#######################\n",
            "----------- Final Mean Score---------------\n",
            "###########################################\n",
            "\n",
            " Mean Validation Accuracy 0.7922077922077921\n",
            "\n",
            " Mean Validation F1 Score 0.8639348818741315\n",
            "###########################################\n",
            "-------------------------------------------\n"
          ]
        }
      ],
      "source": [
        "i=1\n",
        "mean = 0\n",
        "fmean = 0\n",
        "kf = StratifiedKFold(n_splits=5,random_state=1)\n",
        "for train_index,test_index in kf.split(X,y):\n",
        "    print ('\\n{} of kfold {} '.format(i,kf.n_splits))\n",
        "    xtr,xvl = X.loc[train_index],X.loc[test_index]\n",
        "    ytr,yvl = y[train_index],y[test_index]\n",
        "    model = LogisticRegression(random_state=1)\n",
        "    model.fit(xtr,ytr)\n",
        "    pred_test=model.predict(xvl)\n",
        "    score=accuracy_score(yvl,pred_test)\n",
        "    f1score = f1_score(yvl,pred_test)\n",
        "    mean += score\n",
        "    fmean += f1score\n",
        "    print('#######################')\n",
        "    print ('accuracy_score',score)\n",
        "    print('-------------------------')\n",
        "    print ('F1 Score ',f1score)\n",
        "    print('#######################')\n",
        "    i+=1\n",
        "    pred_test_f = model.predict(test)\n",
        "    pred = model.predict_proba(xvl)[:,1]\n",
        "\n",
        "print('----------- Final Mean Score---------------')    \n",
        "print('###########################################')\n",
        "print ('\\n Mean Validation Accuracy',mean/(i-1))\n",
        "print ('\\n Mean Validation F1 Score',fmean/(i-1))\n",
        "print('###########################################')\n",
        "print('-------------------------------------------')    \n"
      ]
    },
    {
      "cell_type": "markdown",
      "metadata": {
        "id": "wHrh6Ti3qpos"
      },
      "source": [
        "* La précision de validation moyenne pour ce modèle s'avère être de __0,7922__ .\n",
        "\n",
        "* Le score moyen de validation f1 pour ce modèle s'avère être __0.8639__ .\n",
        "\n",
        "Visualisons la courbe roc."
      ]
    },
    {
      "cell_type": "code",
      "execution_count": null,
      "metadata": {
        "colab": {
          "base_uri": "https://localhost:8080/",
          "height": 497
        },
        "id": "0GgWt0PJqiRf",
        "outputId": "e9ea4ba2-fc8a-4f5c-ee3f-d82cd35cbab6"
      },
      "outputs": [
        {
          "data": {
            "image/png": "[encoded data removed]",
            "text/plain": [
              "<Figure size 864x576 with 1 Axes>"
            ]
          },
          "metadata": {
            "needs_background": "light",
            "tags": []
          },
          "output_type": "display_data"
        }
      ],
      "source": [
        "from sklearn import metrics\n",
        "fpr, tpr, _ = metrics.roc_curve(yvl, pred)\n",
        "auc = metrics.roc_auc_score(yvl, pred)\n",
        "plt.figure(figsize=(12,8))\n",
        "plt.plot(fpr, tpr, label=\"validation, auc=\"+str(auc))\n",
        "plt.xlabel('False Positive Rate')\n",
        "plt.ylabel('True Positive Rate')\n",
        "plt.legend(loc=4)\n",
        "plt.show()"
      ]
    },
    {
      "cell_type": "markdown",
      "metadata": {
        "id": "AxIStrnZrEfr"
      },
      "source": [
        "* Nous avons une valeur \"auc\" de __0.8176__"
      ]
    },
    {
      "cell_type": "code",
      "execution_count": null,
      "metadata": {
        "colab": {
          "base_uri": "https://localhost:8080/",
          "height": 17
        },
        "id": "T1fx6YX5q8YL",
        "outputId": "e56ee654-0f1a-4344-86f7-4f53994240ad"
      },
      "outputs": [
        {
          "data": {
            "application/javascript": "\n    async function download(id, filename, size) {\n      if (!google.colab.kernel.accessAllowed) {\n        return;\n      }\n      const div = document.createElement('div');\n      const label = document.createElement('label');\n      label.textContent = `Downloading \"${filename}\": `;\n      div.appendChild(label);\n      const progress = document.createElement('progress');\n      progress.max = size;\n      div.appendChild(progress);\n      document.body.appendChild(div);\n\n      const buffers = [];\n      let downloaded = 0;\n\n      const channel = await google.colab.kernel.comms.open(id);\n      // Send a message to notify the kernel that we're ready.\n      channel.send({})\n\n      for await (const message of channel.messages) {\n        // Send a message to notify the kernel that we're ready.\n        channel.send({})\n        if (message.buffers) {\n          for (const buffer of message.buffers) {\n            buffers.push(buffer);\n            downloaded += buffer.byteLength;\n            progress.value = downloaded;\n          }\n        }\n      }\n      const blob = new Blob(buffers, {type: 'application/binary'});\n      const a = document.createElement('a');\n      a.href = window.URL.createObjectURL(blob);\n      a.download = filename;\n      div.appendChild(a);\n      a.click();\n      div.remove();\n    }\n  ",
            "text/plain": [
              "<IPython.core.display.Javascript object>"
            ]
          },
          "metadata": {
            "tags": []
          },
          "output_type": "display_data"
        },
        {
          "data": {
            "application/javascript": "download(\"download_b7c4f4d9-7c97-4c6f-a3d6-dfdeaada421a\", \"datathon_loan_lr_crosval.csv\", 257)",
            "text/plain": [
              "<IPython.core.display.Javascript object>"
            ]
          },
          "metadata": {
            "tags": []
          },
          "output_type": "display_data"
        }
      ],
      "source": [
        "res = pd.DataFrame(pred_test_f) # Les prédictions ne sont rien d'autre que les prédictions finales de votre modèle sur les caractéristiques d'entrée de vos nouvelles données de test invisibles\n",
        "res.index = test_data.index # c'est important pour la comparaison. Ici, \"test_new\" est votre nouvel ensemble de données de test\n",
        "res.columns = [\"prediction\"]\n",
        "\n",
        "# Pour télécharger le fichier csv localement\n",
        "from google.colab import files\n",
        "res.to_csv('datathon_loan_lr_crosval.csv', index=False)         \n",
        "files.download('datathon_loan_lr_crosval.csv')"
      ]
    },
    {
      "cell_type": "markdown",
      "metadata": {
        "id": "zmFCdRFutXVX"
      },
      "source": [
        "Nous avons obtenu un score : __84.91620111731845__"
      ]
    },
    {
      "cell_type": "markdown",
      "metadata": {
        "id": "qlHhGkSytRng"
      },
      "source": [
        "## Feature Engineering"
      ]
    },
    {
      "cell_type": "markdown",
      "metadata": {
        "id": "p24TZFZQtefx"
      },
      "source": [
        "Sur la base de la connaissance du domaine, nous pouvons proposer de nouvelles fonctionnalités qui pourraient affecter la variable cible. Nous allons créer les trois nouvelles fonctionnalités suivantes :\n",
        "\n",
        "* __Revenu total__ - Comme discuté lors de l'analyse bivariée, nous combinerons le revenu du demandeur et le revenu du codemandeur. Si le revenu total est élevé, les chances d'approbation du prêt peuvent également être élevées.\n",
        "* __EMI__ - EMI est le montant mensuel à payer par le demandeur pour rembourser le prêt. L'idée derrière la création de cette variable est que les personnes qui ont des IME élevés pourraient avoir des difficultés à rembourser le prêt. Nous pouvons calculer l'IME en prenant le ratio du montant du prêt par rapport à la durée du montant du prêt.\n",
        "* __Revenu du solde__ - Il s'agit du revenu restant après le paiement de l'IME. L'idée derrière la création de cette variable est que si cette valeur est élevée, les chances sont élevées qu'une personne rembourse le prêt et augmente ainsi les chances d'approbation du prêt."
      ]
    },
    {
      "cell_type": "code",
      "execution_count": null,
      "metadata": {
        "id": "w8p-pr7arn1k"
      },
      "outputs": [],
      "source": [
        "train['Total_Income']=train['ApplicantIncome']+train['CoapplicantIncome']\n",
        "test['Total_Income']=test['ApplicantIncome']+test['CoapplicantIncome']"
      ]
    },
    {
      "cell_type": "markdown",
      "metadata": {
        "id": "M3Xo2Z84t1V8"
      },
      "source": [
        "Vérifions la distribution du revenu total."
      ]
    },
    {
      "cell_type": "code",
      "execution_count": null,
      "metadata": {
        "colab": {
          "base_uri": "https://localhost:8080/",
          "height": 297
        },
        "id": "fvyaGBeytouD",
        "outputId": "cf7db249-926c-471f-d9c3-7f75d16d4dd5"
      },
      "outputs": [
        {
          "data": {
            "text/plain": [
              "<matplotlib.axes._subplots.AxesSubplot at 0x7f4253421c18>"
            ]
          },
          "execution_count": 68,
          "metadata": {
            "tags": []
          },
          "output_type": "execute_result"
        },
        {
          "data": {
            "image/png": "[encoded data removed]",
            "text/plain": [
              "<Figure size 432x288 with 1 Axes>"
            ]
          },
          "metadata": {
            "needs_background": "light",
            "tags": []
          },
          "output_type": "display_data"
        }
      ],
      "source": [
        "sns.distplot(train['Total_Income'])"
      ]
    },
    {
      "cell_type": "markdown",
      "metadata": {
        "id": "pZabr302uIpZ"
      },
      "source": [
        "Nous pouvons voir qu'elle est décalée vers la gauche, c'est-à-dire que la distribution est asymétrique à droite. Prenons donc la transformation du journal pour rendre la distribution normale."
      ]
    },
    {
      "cell_type": "code",
      "execution_count": null,
      "metadata": {
        "colab": {
          "base_uri": "https://localhost:8080/",
          "height": 280
        },
        "id": "y7Of9HD5t6Nf",
        "outputId": "1589a490-defa-4152-a157-26445a78c041"
      },
      "outputs": [
        {
          "data": {
            "image/png": "[encoded data removed]",
            "text/plain": [
              "<Figure size 432x288 with 1 Axes>"
            ]
          },
          "metadata": {
            "needs_background": "light",
            "tags": []
          },
          "output_type": "display_data"
        }
      ],
      "source": [
        "train['Total_Income_log'] = np.log(train['Total_Income'])\n",
        "sns.distplot(train['Total_Income_log'])\n",
        "test['Total_Income_log'] = np.log(test['Total_Income'])"
      ]
    },
    {
      "cell_type": "markdown",
      "metadata": {
        "id": "pc9G3_VeuQjg"
      },
      "source": [
        "Maintenant, la distribution semble beaucoup plus proche de la normale et l'effet des valeurs extrêmes a été considérablement atténué. Créons maintenant la fonction EMI."
      ]
    },
    {
      "cell_type": "code",
      "execution_count": null,
      "metadata": {
        "id": "cFMW9fg-uN8e"
      },
      "outputs": [],
      "source": [
        "train['EMI']=train['LoanAmount']/train['Loan_Amount_Term']\n",
        "test['EMI']=test['LoanAmount']/test['Loan_Amount_Term']"
      ]
    },
    {
      "cell_type": "markdown",
      "metadata": {
        "id": "RVuQBgkbuUY6"
      },
      "source": [
        "Vérifions la distribution de la variable EMI."
      ]
    },
    {
      "cell_type": "code",
      "execution_count": null,
      "metadata": {
        "colab": {
          "base_uri": "https://localhost:8080/",
          "height": 296
        },
        "id": "SWUXmVlBuSNf",
        "outputId": "0ec8a6da-5feb-4d18-9eea-7c4b3f4d04fc"
      },
      "outputs": [
        {
          "data": {
            "text/plain": [
              "<matplotlib.axes._subplots.AxesSubplot at 0x7f4253565ef0>"
            ]
          },
          "execution_count": 71,
          "metadata": {
            "tags": []
          },
          "output_type": "execute_result"
        },
        {
          "data": {
            "image/png": "[encoded data removed]",
            "text/plain": [
              "<Figure size 432x288 with 1 Axes>"
            ]
          },
          "metadata": {
            "needs_background": "light",
            "tags": []
          },
          "output_type": "display_data"
        }
      ],
      "source": [
        "sns.distplot(train['EMI'])"
      ]
    },
    {
      "cell_type": "markdown",
      "metadata": {
        "id": "5CaX8WeJuZA7"
      },
      "source": [
        "Créons maintenant la fonction Balance Income et vérifions sa distribution."
      ]
    },
    {
      "cell_type": "code",
      "execution_count": null,
      "metadata": {
        "colab": {
          "base_uri": "https://localhost:8080/",
          "height": 296
        },
        "id": "zW3TPfZMuWIj",
        "outputId": "0daf4cfb-6e60-465c-bb6d-f9f716167110"
      },
      "outputs": [
        {
          "data": {
            "text/plain": [
              "<matplotlib.axes._subplots.AxesSubplot at 0x7f425943acf8>"
            ]
          },
          "execution_count": 72,
          "metadata": {
            "tags": []
          },
          "output_type": "execute_result"
        },
        {
          "data": {
            "image/png": "[encoded data removed]",
            "text/plain": [
              "<Figure size 432x288 with 1 Axes>"
            ]
          },
          "metadata": {
            "needs_background": "light",
            "tags": []
          },
          "output_type": "display_data"
        }
      ],
      "source": [
        "train['Balance Income'] = train['Total_Income']-(train['EMI']*1000)\n",
        "test['Balance Income'] = test['Total_Income']-(test['EMI']*1000)\n",
        "sns.distplot(train['Balance Income'])"
      ]
    },
    {
      "cell_type": "markdown",
      "metadata": {
        "id": "3mTjdo-wueRo"
      },
      "source": [
        "Laissons maintenant tomber les variables que nous avons utilisées pour créer ces nouvelles fonctionnalités.\n",
        "\n",
        "  La raison en est que la corrélation entre ces anciennes caractéristiques et ces nouvelles caractéristiques sera très élevée et la régression logistique suppose que les variables ne sont pas fortement corrélées.\n",
        "\n",
        "Nous voulons également supprimer le bruit de l'ensemble de données, donc la suppression des fonctionnalités corrélées aidera également à réduire le bruit."
      ]
    },
    {
      "cell_type": "code",
      "execution_count": null,
      "metadata": {
        "id": "703IC3RBua90"
      },
      "outputs": [],
      "source": [
        "train=train.drop(['ApplicantIncome', 'CoapplicantIncome', 'LoanAmount', 'Loan_Amount_Term'], axis=1)\n",
        "test=test.drop(['ApplicantIncome', 'CoapplicantIncome', 'LoanAmount', 'Loan_Amount_Term'], axis=1)"
      ]
    },
    {
      "cell_type": "markdown",
      "metadata": {
        "id": "YKFCHkO4viOt"
      },
      "source": [
        "## __Partie II__\n",
        "\n",
        "Après avoir créé de nouvelles fonctionnalités, nous pouvons continuer le processus de création de modèles.\n",
        "\n",
        "Nous allons donc commencer par un modèle de régression logistique, puis passer à des modèles plus complexes comme RandomForest et XGBoost.\n",
        "\n",
        "Nous allons construire les modèles suivants dans cette section.\n",
        "\n",
        "* Régression logistique\n",
        "* Decision Tree\n",
        "* Random Forest (0,79)\n",
        "* XGBoost (0,72)\n",
        "\n",
        "Préparons les données pour alimenter les modèles."
      ]
    },
    {
      "cell_type": "code",
      "execution_count": null,
      "metadata": {
        "id": "hk2eYK7Iu5HW"
      },
      "outputs": [],
      "source": [
        "X = train.drop('Loan_Status', axis= 1)\n",
        "y = train.Loan_Status"
      ]
    },
    {
      "cell_type": "markdown",
      "metadata": {
        "id": "sfUDsD-Dv1j1"
      },
      "source": [
        "### __Logistic Regression__"
      ]
    },
    {
      "cell_type": "code",
      "execution_count": null,
      "metadata": {
        "colab": {
          "base_uri": "https://localhost:8080/"
        },
        "id": "t7xHJ6Zcvw0C",
        "outputId": "98469335-c91f-4453-8710-010db10934ed"
      },
      "outputs": [
        {
          "name": "stdout",
          "output_type": "stream",
          "text": [
            "----------- After Features Engineering---------------\n",
            "\n",
            "1 of kfold 5 \n",
            "#######################\n",
            "accuracy_score 0.797979797979798\n",
            "-------------------------\n",
            "F1 Score  0.8648648648648648\n",
            "#######################\n",
            "\n",
            "2 of kfold 5 \n",
            "#######################\n",
            "accuracy_score 0.7040816326530612\n",
            "-------------------------\n",
            "F1 Score  0.802721088435374\n",
            "#######################\n",
            "\n",
            "3 of kfold 5 \n",
            "#######################\n",
            "accuracy_score 0.7653061224489796\n",
            "-------------------------\n",
            "F1 Score  0.849673202614379\n",
            "#######################\n",
            "\n",
            "4 of kfold 5 \n",
            "#######################\n",
            "accuracy_score 0.826530612244898\n",
            "-------------------------\n",
            "F1 Score  0.881118881118881\n",
            "#######################\n",
            "\n",
            "5 of kfold 5 \n",
            "#######################\n",
            "accuracy_score 0.7959183673469388\n",
            "-------------------------\n",
            "F1 Score  0.8684210526315789\n",
            "#######################\n",
            "----------- Final Mean Score---------------\n",
            "###########################################\n",
            "\n",
            " Mean Validation Accuracy 0.7779633065347351\n",
            "\n",
            " Mean Validation F1 Score 0.8533598179330155\n",
            "###########################################\n",
            "-------------------------------------------\n"
          ]
        }
      ],
      "source": [
        "i=1\n",
        "mean = 0\n",
        "fmean = 0\n",
        "print('----------- After Features Engineering---------------')    \n",
        "kf = StratifiedKFold(n_splits=5,random_state=1)\n",
        "for train_index,test_index in kf.split(X,y):\n",
        "    print ('\\n{} of kfold {} '.format(i,kf.n_splits))\n",
        "    xtr,xvl = X.loc[train_index],X.loc[test_index]\n",
        "    ytr,yvl = y[train_index],y[test_index]\n",
        "    model = LogisticRegression(random_state=1)\n",
        "    model.fit(xtr,ytr)\n",
        "    pred_test=model.predict(xvl)\n",
        "    score=accuracy_score(yvl,pred_test)\n",
        "    f1score = f1_score(yvl,pred_test)\n",
        "    mean += score\n",
        "    fmean += f1score\n",
        "    print('#######################')\n",
        "    print ('accuracy_score',score)\n",
        "    print('-------------------------')\n",
        "    print ('F1 Score ',f1score)\n",
        "    print('#######################')\n",
        "    i+=1\n",
        "    pred_test_fe = model.predict(test)\n",
        "    pred = model.predict_proba(xvl)[:,1]\n",
        "\n",
        "\n",
        "print('----------- Final Mean Score---------------')    \n",
        "print('###########################################')\n",
        "print ('\\n Mean Validation Accuracy',mean/(i-1))\n",
        "print ('\\n Mean Validation F1 Score',fmean/(i-1))\n",
        "print('###########################################')\n",
        "print('-------------------------------------------')    \n"
      ]
    },
    {
      "cell_type": "code",
      "execution_count": null,
      "metadata": {
        "colab": {
          "base_uri": "https://localhost:8080/",
          "height": 497
        },
        "id": "rD0PgpqKw5ID",
        "outputId": "06e7d89e-f82a-47ab-8d1f-ade01ed50d48"
      },
      "outputs": [
        {
          "data": {
            "image/png": "[encoded data removed]",
            "text/plain": [
              "<Figure size 864x576 with 1 Axes>"
            ]
          },
          "metadata": {
            "needs_background": "light",
            "tags": []
          },
          "output_type": "display_data"
        }
      ],
      "source": [
        "# Faut pas le dire ça !!!!\n",
        "\n",
        "from sklearn import metrics\n",
        "fpr, tpr, _ = metrics.roc_curve(yvl, pred)\n",
        "auc = metrics.roc_auc_score(yvl, pred)\n",
        "plt.figure(figsize=(12,8))\n",
        "plt.plot(fpr, tpr, label=\"validation, auc=\"+str(auc))\n",
        "plt.xlabel('False Positive Rate')\n",
        "plt.ylabel('True Positive Rate')\n",
        "plt.legend(loc=4)\n",
        "plt.show()"
      ]
    },
    {
      "cell_type": "code",
      "execution_count": null,
      "metadata": {
        "colab": {
          "base_uri": "https://localhost:8080/",
          "height": 17
        },
        "id": "Jl584oxbwFYs",
        "outputId": "c5a59c00-aa01-490a-aa9b-50d73ce8f17c"
      },
      "outputs": [
        {
          "data": {
            "application/javascript": "\n    async function download(id, filename, size) {\n      if (!google.colab.kernel.accessAllowed) {\n        return;\n      }\n      const div = document.createElement('div');\n      const label = document.createElement('label');\n      label.textContent = `Downloading \"${filename}\": `;\n      div.appendChild(label);\n      const progress = document.createElement('progress');\n      progress.max = size;\n      div.appendChild(progress);\n      document.body.appendChild(div);\n\n      const buffers = [];\n      let downloaded = 0;\n\n      const channel = await google.colab.kernel.comms.open(id);\n      // Send a message to notify the kernel that we're ready.\n      channel.send({})\n\n      for await (const message of channel.messages) {\n        // Send a message to notify the kernel that we're ready.\n        channel.send({})\n        if (message.buffers) {\n          for (const buffer of message.buffers) {\n            buffers.push(buffer);\n            downloaded += buffer.byteLength;\n            progress.value = downloaded;\n          }\n        }\n      }\n      const blob = new Blob(buffers, {type: 'application/binary'});\n      const a = document.createElement('a');\n      a.href = window.URL.createObjectURL(blob);\n      a.download = filename;\n      div.appendChild(a);\n      a.click();\n      div.remove();\n    }\n  ",
            "text/plain": [
              "<IPython.core.display.Javascript object>"
            ]
          },
          "metadata": {
            "tags": []
          },
          "output_type": "display_data"
        },
        {
          "data": {
            "application/javascript": "download(\"download_369039d8-b2e7-40b5-be15-faeed9c2e860\", \"datathon_loan_lr_fe.csv\", 257)",
            "text/plain": [
              "<IPython.core.display.Javascript object>"
            ]
          },
          "metadata": {
            "tags": []
          },
          "output_type": "display_data"
        }
      ],
      "source": [
        "# ca non plus le dit pas\n",
        "\n",
        "#  # Pour créer Dataframe de valeur prédite avec un indice respectif particulier\n",
        "res = pd.DataFrame(pred_test_fe) \n",
        "res.index = test_data.index \n",
        "res.columns = [\"prediction\"]\n",
        "\n",
        "from google.colab import files\n",
        "res.to_csv('datathon_loan_lr_fe.csv', index=False)         \n",
        "files.download('datathon_loan_lr_fe.csv')"
      ]
    },
    {
      "cell_type": "markdown",
      "metadata": {
        "id": "wYU8kbNcy6DP"
      },
      "source": [
        "Le Solveur a obtenu un score __#5  86.1878453038674__\n",
        "\n",
        "Jour : __23/12/2021 à 19:03__"
      ]
    },
    {
      "cell_type": "markdown",
      "metadata": {},
      "source": [
        "On reprend ici"
      ]
    },
    {
      "cell_type": "markdown",
      "metadata": {
        "id": "XiDJG-CyxbCX"
      },
      "source": [
        "### __Decision Tree__"
      ]
    },
    {
      "cell_type": "markdown",
      "metadata": {
        "id": "yuIQMWbqxmZY"
      },
      "source": [
        "L'arbre de décision est un type d'algorithme d'apprentissage supervisé (ayant une variable cible prédéfinie) qui est principalement utilisé dans les problèmes de classification. Dans cette technique, nous divisons la population ou l'échantillon en deux ou plusieurs ensembles homogènes (ou sous-populations) en fonction du diviseur / différentiateur le plus significatif dans les variables d'entrée.\n",
        "\n",
        "Les arbres de décision utilisent plusieurs algorithmes pour décider de diviser un nœud en deux ou plusieurs sous-nœuds. La création de sous-nœuds augmente l'homogénéité des sous-nœuds résultants. En d'autres termes, on peut dire que la pureté du nœud augmente par rapport à la variable cible.\n",
        "\n",
        "Pour une explication détaillée, visitez https://www.analyticsvidhya.com/blog/2016/04/complete-tutorial-tree-based-modeling-scratch-in-python/#six\n",
        "\n",
        "Ajustons le modèle d'arbre de décision avec 5 fold de validation croisée."
      ]
    },
    {
      "cell_type": "code",
      "execution_count": null,
      "metadata": {
        "colab": {
          "base_uri": "https://localhost:8080/"
        },
        "id": "ExGSOt4xxEic",
        "outputId": "b418ba16-edb7-42de-d6fe-4c2f3dded457"
      },
      "outputs": [
        {
          "name": "stdout",
          "output_type": "stream",
          "text": [
            "----------- After Features Engineering---------------\n",
            "\n",
            "1 of kfold 5 \n",
            "#######################\n",
            "accuracy_score 0.7575757575757576\n",
            "-------------------------\n",
            "F1 Score  0.8356164383561644\n",
            "#######################\n",
            "\n",
            "2 of kfold 5 \n",
            "#######################\n",
            "accuracy_score 0.673469387755102\n",
            "-------------------------\n",
            "F1 Score  0.7681159420289855\n",
            "#######################\n",
            "\n",
            "3 of kfold 5 \n",
            "#######################\n",
            "accuracy_score 0.673469387755102\n",
            "-------------------------\n",
            "F1 Score  0.7894736842105263\n",
            "#######################\n",
            "\n",
            "4 of kfold 5 \n",
            "#######################\n",
            "accuracy_score 0.7346938775510204\n",
            "-------------------------\n",
            "F1 Score  0.7999999999999999\n",
            "#######################\n",
            "\n",
            "5 of kfold 5 \n",
            "#######################\n",
            "accuracy_score 0.7448979591836735\n",
            "-------------------------\n",
            "F1 Score  0.8201438848920864\n",
            "#######################\n",
            "----------- Final Mean Score---------------\n",
            "###########################################\n",
            "\n",
            " Mean Validation Accuracy 0.7168212739641311\n",
            "\n",
            " Mean Validation F1 Score 0.8026699898975526\n",
            "###########################################\n",
            "-------------------------------------------\n"
          ]
        }
      ],
      "source": [
        "from sklearn.tree import  DecisionTreeClassifier\n",
        "i=1\n",
        "mean = 0\n",
        "fmean = 0\n",
        "print('----------- After Features Engineering---------------')    \n",
        "kf = StratifiedKFold(n_splits=5,random_state=1)\n",
        "for train_index,test_index in kf.split(X,y):\n",
        "    print ('\\n{} of kfold {} '.format(i,kf.n_splits))\n",
        "    xtr,xvl = X.loc[train_index],X.loc[test_index]\n",
        "    ytr,yvl = y[train_index],y[test_index]\n",
        "    model_tree = DecisionTreeClassifier(random_state=1)\n",
        "    model_tree.fit(xtr,ytr)\n",
        "    pred_test=model_tree.predict(xvl)\n",
        "    score=accuracy_score(yvl,pred_test)\n",
        "    f1score = f1_score(yvl,pred_test)\n",
        "    mean += score\n",
        "    fmean += f1score\n",
        "    print('#######################')\n",
        "    print ('accuracy_score',score)\n",
        "    print('-------------------------')\n",
        "    print ('F1 Score ',f1score)\n",
        "    print('#######################')\n",
        "    i+=1\n",
        "    pred_test_tree = model_tree.predict(test)\n",
        "    pred = model_tree.predict_proba(xvl)[:,1]\n",
        "\n",
        "\n",
        "print('----------- Final Mean Score---------------')    \n",
        "print('###########################################')\n",
        "print ('\\n Mean Validation Accuracy',mean/(i-1))\n",
        "print ('\\n Mean Validation F1 Score',fmean/(i-1))\n",
        "print('###########################################')\n",
        "print('-------------------------------------------')    "
      ]
    },
    {
      "cell_type": "code",
      "execution_count": null,
      "metadata": {},
      "outputs": [],
      "source": [
        "res = pd.DataFrame(pred_test_tree) \n",
        "res.index = test_data.index \n",
        "res.columns = [\"prediction\"]\n",
        "\n",
        "from google.colab import files\n",
        "res.to_csv('datathon_loan_tree_fe.csv', index=False)         \n",
        "files.download('datathon_loan_tree_fe.csv')"
      ]
    }
  ],
  "metadata": {
    "colab": {
      "collapsed_sections": [],
      "name": "ML_AdvancedBootCamp_Assignment 3: Advanced: Loan or No Loan?.ipynb",
      "provenance": []
    },
    "kernelspec": {
      "display_name": "Python 3",
      "name": "python3"
    },
    "language_info": {
      "codemirror_mode": {
        "name": "ipython",
        "version": 3
      },
      "file_extension": ".py",
      "mimetype": "text/x-python",
      "name": "python",
      "nbconvert_exporter": "python",
      "pygments_lexer": "ipython3",
      "version": "3.9.5"
    }
  },
  "nbformat": 4,
  "nbformat_minor": 0
}
